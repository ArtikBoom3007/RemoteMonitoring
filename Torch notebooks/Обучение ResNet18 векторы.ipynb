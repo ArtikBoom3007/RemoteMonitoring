{
 "cells": [
  {
   "cell_type": "markdown",
   "id": "0a6ccadd",
   "metadata": {},
   "source": [
    "# Обучение ResNet18 на векторном представлении ЭКГ"
   ]
  },
  {
   "cell_type": "markdown",
   "id": "91383aa2",
   "metadata": {},
   "source": [
    "## Импорт библиотек и написанных алгоритмов"
   ]
  },
  {
   "cell_type": "code",
   "execution_count": 1,
   "id": "e55ac736",
   "metadata": {},
   "outputs": [
    {
     "name": "stdout",
     "output_type": "stream",
     "text": [
      "WARNING:tensorflow:From d:\\Anaconda\\Lib\\site-packages\\keras\\src\\losses.py:2976: The name tf.losses.sparse_softmax_cross_entropy is deprecated. Please use tf.compat.v1.losses.sparse_softmax_cross_entropy instead.\n",
      "\n"
     ]
    }
   ],
   "source": [
    "# Стандартные библиотеки для работы с данными:\n",
    "import numpy as np\n",
    "import pandas as pd\n",
    "import matplotlib.pyplot as plt\n",
    "import tensorflow as tf\n",
    "import keras\n",
    "\n",
    "from sklearn.model_selection import train_test_split\n",
    "from sklearn.preprocessing import OneHotEncoder\n",
    "from tensorflow.keras import datasets,models,layers\n",
    "from keras.datasets import cifar10\n",
    "from keras.preprocessing.image import ImageDataGenerator\n",
    "from keras.optimizers import SGD, Adam\n",
    "\n",
    "# Библиотеки для построения архитектуры ResNet18\n",
    "from keras.callbacks import EarlyStopping\n",
    "from keras.layers import Dense, Conv2D,  MaxPool2D, Flatten, GlobalAveragePooling2D,  BatchNormalization, Layer, Add\n",
    "from keras.models import Sequential\n",
    "from keras.models import Model\n",
    "import tensorflow as tf\n",
    "\n",
    "# Библиотеки для формирования наборов данных:\n",
    "import sys\n",
    "import os\n",
    "from importlib import reload"
   ]
  },
  {
   "cell_type": "code",
   "execution_count": 29,
   "id": "d980089d",
   "metadata": {},
   "outputs": [
    {
     "name": "stdout",
     "output_type": "stream",
     "text": [
      "2.15.0\n"
     ]
    }
   ],
   "source": [
    "print(keras.__version__)"
   ]
  },
  {
   "cell_type": "code",
   "execution_count": 2,
   "id": "f89a88c1",
   "metadata": {},
   "outputs": [
    {
     "name": "stdout",
     "output_type": "stream",
     "text": [
      "d:\\УЧЕБА\\Remote monitoring\\Neural network\\../Scripts\n",
      "d:\\УЧЕБА\\Remote monitoring\\Neural network\\../Wavelet\n"
     ]
    }
   ],
   "source": [
    "# Подгружаем пути к директориям с нашими алгоритмами:\n",
    "cur_dir = os.getcwd()\n",
    "dataset_path = os.path.join(cur_dir, \"../Dataset\")\n",
    "wavelets_path = os.path.join(cur_dir, \"../Wavelet\")\n",
    "script_path = os.path.join(cur_dir, \"../Scripts\")\n",
    "print(script_path)\n",
    "print(wavelets_path)\n",
    "sys.path.append(dataset_path)\n",
    "sys.path.append(wavelets_path)\n",
    "sys.path.append(script_path)"
   ]
  },
  {
   "cell_type": "code",
   "execution_count": 3,
   "id": "9eb6104c",
   "metadata": {},
   "outputs": [
    {
     "data": {
      "text/plain": [
       "<module 'image' from 'd:\\\\УЧЕБА\\\\Remote monitoring\\\\Neural network\\\\../Scripts\\\\image.py'>"
      ]
     },
     "execution_count": 3,
     "metadata": {},
     "output_type": "execute_result"
    }
   ],
   "source": [
    "# Подгружаем алгоритмы для подготовки данных:\n",
    "import ECGsignal as ecg # Алгоритмы для формирования датасета и цельного изображения графиков 12 отведений ЭКГ\n",
    "reload(ecg) # Это для отображения изменений в файле без прерывания ядра\n",
    "import VECG as vecg # Алгоритмы для формирования векторного представления кардиоциклов\n",
    "reload(vecg)\n",
    "import CWT as wt # Алгоритмы для вейвлет преобразования графиков ЭКГ\n",
    "reload(wt)\n",
    "import image as img\n",
    "reload(img)"
   ]
  },
  {
   "cell_type": "markdown",
   "id": "b3c7920d",
   "metadata": {},
   "source": [
    "## Подготовка данных"
   ]
  },
  {
   "cell_type": "code",
   "execution_count": 4,
   "id": "37795c90",
   "metadata": {},
   "outputs": [
    {
     "data": {
      "text/html": [
       "<div>\n",
       "<style scoped>\n",
       "    .dataframe tbody tr th:only-of-type {\n",
       "        vertical-align: middle;\n",
       "    }\n",
       "\n",
       "    .dataframe tbody tr th {\n",
       "        vertical-align: top;\n",
       "    }\n",
       "\n",
       "    .dataframe thead th {\n",
       "        text-align: right;\n",
       "    }\n",
       "</style>\n",
       "<table border=\"1\" class=\"dataframe\">\n",
       "  <thead>\n",
       "    <tr style=\"text-align: right;\">\n",
       "      <th></th>\n",
       "      <th>data</th>\n",
       "      <th>label</th>\n",
       "    </tr>\n",
       "  </thead>\n",
       "  <tbody>\n",
       "    <tr>\n",
       "      <th>0</th>\n",
       "      <td>[[0.045, 0.045, 0.045, 0.045, 0.045, 0.045, 0....</td>\n",
       "      <td>AF</td>\n",
       "    </tr>\n",
       "    <tr>\n",
       "      <th>1</th>\n",
       "      <td>[[-0.09, -0.09, -0.09, -0.09, -0.09, -0.09, -0...</td>\n",
       "      <td>AF</td>\n",
       "    </tr>\n",
       "    <tr>\n",
       "      <th>2</th>\n",
       "      <td>[[-0.08, -0.08, -0.08, -0.08, -0.08, -0.08, -0...</td>\n",
       "      <td>AF</td>\n",
       "    </tr>\n",
       "    <tr>\n",
       "      <th>3</th>\n",
       "      <td>[[-0.01, -0.01, -0.01, -0.01, -0.01, -0.01, -0...</td>\n",
       "      <td>AF</td>\n",
       "    </tr>\n",
       "    <tr>\n",
       "      <th>4</th>\n",
       "      <td>[[-0.02, -0.02, -0.02, -0.02, -0.02, -0.02, -0...</td>\n",
       "      <td>AF</td>\n",
       "    </tr>\n",
       "    <tr>\n",
       "      <th>...</th>\n",
       "      <td>...</td>\n",
       "      <td>...</td>\n",
       "    </tr>\n",
       "    <tr>\n",
       "      <th>195</th>\n",
       "      <td>[[-0.04, -0.04, -0.04, -0.04, -0.04, -0.04, -0...</td>\n",
       "      <td>SR</td>\n",
       "    </tr>\n",
       "    <tr>\n",
       "      <th>196</th>\n",
       "      <td>[[-0.11, -0.11, -0.11, -0.11, -0.11, -0.11, -0...</td>\n",
       "      <td>SR</td>\n",
       "    </tr>\n",
       "    <tr>\n",
       "      <th>197</th>\n",
       "      <td>[[-0.105, -0.105, -0.105, -0.105, -0.105, -0.1...</td>\n",
       "      <td>SR</td>\n",
       "    </tr>\n",
       "    <tr>\n",
       "      <th>198</th>\n",
       "      <td>[[-0.025, -0.025, -0.025, -0.025, -0.025, -0.0...</td>\n",
       "      <td>SR</td>\n",
       "    </tr>\n",
       "    <tr>\n",
       "      <th>199</th>\n",
       "      <td>[[-0.215, -0.215, -0.215, -0.215, -0.215, -0.2...</td>\n",
       "      <td>SR</td>\n",
       "    </tr>\n",
       "  </tbody>\n",
       "</table>\n",
       "<p>200 rows × 2 columns</p>\n",
       "</div>"
      ],
      "text/plain": [
       "                                                  data label\n",
       "0    [[0.045, 0.045, 0.045, 0.045, 0.045, 0.045, 0....    AF\n",
       "1    [[-0.09, -0.09, -0.09, -0.09, -0.09, -0.09, -0...    AF\n",
       "2    [[-0.08, -0.08, -0.08, -0.08, -0.08, -0.08, -0...    AF\n",
       "3    [[-0.01, -0.01, -0.01, -0.01, -0.01, -0.01, -0...    AF\n",
       "4    [[-0.02, -0.02, -0.02, -0.02, -0.02, -0.02, -0...    AF\n",
       "..                                                 ...   ...\n",
       "195  [[-0.04, -0.04, -0.04, -0.04, -0.04, -0.04, -0...    SR\n",
       "196  [[-0.11, -0.11, -0.11, -0.11, -0.11, -0.11, -0...    SR\n",
       "197  [[-0.105, -0.105, -0.105, -0.105, -0.105, -0.1...    SR\n",
       "198  [[-0.025, -0.025, -0.025, -0.025, -0.025, -0.0...    SR\n",
       "199  [[-0.215, -0.215, -0.215, -0.215, -0.215, -0.2...    SR\n",
       "\n",
       "[200 rows x 2 columns]"
      ]
     },
     "execution_count": 4,
     "metadata": {},
     "output_type": "execute_result"
    }
   ],
   "source": [
    "# Инициализируем наш алгоритм загрузки данных\n",
    "ecg.init()\n",
    "\n",
    "\n",
    "\n",
    "\n",
    "\n",
    "# Создаём датафрейм и настраиваем количество записей каждого из классов\n",
    "data_size = 100\n",
    "ECG_df = ecg.signal(number_labels = {\"SR\" : data_size, \"VA\" : 0, \"AF\" : data_size})\n",
    "ecg.clean_memory()\n",
    "\"\"\"\n",
    "Здесь мы создаём датафрейм из графиков ЭКГ каждой записи. \n",
    "В параметре 'number_labels' вписывается словарь вида {'Класс недуга' : количество записей по этому классу}.\n",
    "В нашей задаче выделены три основных класса по записям:\n",
    "SR - Синусовый ритм, VA - Различные виды аритмии, AF - Фибрилляция предсердия.\n",
    " \n",
    "Желательно, чтобы количество рассматриваемых записей было соизмеримо между классами.\n",
    "\"\"\"\n",
    "\n",
    "\n",
    "\n",
    "\n",
    "ECG_df # Выводим полученный датафрейм, где слева матрица 12 на 2500, представляющая отсчёты 12 отведений записи,\n",
    "# а справа - класс, присвоенный записи"
   ]
  },
  {
   "cell_type": "code",
   "execution_count": 5,
   "id": "84703da5",
   "metadata": {},
   "outputs": [],
   "source": [
    "ECG_df = pd.read_pickle(\"../Dataset/check_preproc_df\")\n",
    "ECG_df = ECG_df[:2*data_size]"
   ]
  },
  {
   "cell_type": "code",
   "execution_count": 6,
   "id": "3c537373",
   "metadata": {},
   "outputs": [
    {
     "data": {
      "image/png": "[encoded data removed]",
      "text/plain": [
       "<Figure size 640x480 with 1 Axes>"
      ]
     },
     "metadata": {},
     "output_type": "display_data"
    }
   ],
   "source": [
    "plt.plot(ECG_df.iloc[0,0][0])\n",
    "plt.title(ECG_df.iloc[0,1]);"
   ]
  },
  {
   "cell_type": "markdown",
   "id": "3cfc92ae",
   "metadata": {},
   "source": [
    "## Преобразование в новые типы данных"
   ]
  },
  {
   "cell_type": "markdown",
   "id": "761e88fb",
   "metadata": {},
   "source": [
    "**Здесь будет представлен выбор, в какой из типов данных превратить наши выборки:**\n",
    "1. Изображение со смещёнными в нём графиками отведений ЭКГ\n",
    "2. Проекция векторного представления кардиоцикла в записи\n",
    "3. Представление отведений как спектрограмм, полученых с использованием вейвлетов"
   ]
  },
  {
   "cell_type": "markdown",
   "id": "13ca339b",
   "metadata": {},
   "source": [
    "### 2. Представление данных как проекции вектора кардиоцикла"
   ]
  },
  {
   "cell_type": "code",
   "execution_count": 7,
   "id": "18f70023",
   "metadata": {},
   "outputs": [
    {
     "data": {
      "text/html": [
       "<div>\n",
       "<style scoped>\n",
       "    .dataframe tbody tr th:only-of-type {\n",
       "        vertical-align: middle;\n",
       "    }\n",
       "\n",
       "    .dataframe tbody tr th {\n",
       "        vertical-align: top;\n",
       "    }\n",
       "\n",
       "    .dataframe thead th {\n",
       "        text-align: right;\n",
       "    }\n",
       "</style>\n",
       "<table border=\"1\" class=\"dataframe\">\n",
       "  <thead>\n",
       "    <tr style=\"text-align: right;\">\n",
       "      <th></th>\n",
       "      <th>data</th>\n",
       "      <th>label</th>\n",
       "    </tr>\n",
       "  </thead>\n",
       "  <tbody>\n",
       "    <tr>\n",
       "      <th>855</th>\n",
       "      <td>[[0.02, 0.02, 0.02, 0.02, 0.02, 0.02, 0.024, 0...</td>\n",
       "      <td>AF</td>\n",
       "    </tr>\n",
       "    <tr>\n",
       "      <th>1523</th>\n",
       "      <td>[[-0.015, -0.015, -0.015, -0.015, -0.015, -0.0...</td>\n",
       "      <td>SR</td>\n",
       "    </tr>\n",
       "    <tr>\n",
       "      <th>80</th>\n",
       "      <td>[[0.095, 0.095, 0.095, 0.095, 0.095, 0.095, 0....</td>\n",
       "      <td>AF</td>\n",
       "    </tr>\n",
       "    <tr>\n",
       "      <th>593</th>\n",
       "      <td>[[-0.195, -0.195, -0.195, -0.195, -0.195, -0.1...</td>\n",
       "      <td>AF</td>\n",
       "    </tr>\n",
       "    <tr>\n",
       "      <th>1145</th>\n",
       "      <td>[[-0.04, -0.04, -0.04, -0.04, -0.04, -0.04, -0...</td>\n",
       "      <td>SR</td>\n",
       "    </tr>\n",
       "  </tbody>\n",
       "</table>\n",
       "</div>"
      ],
      "text/plain": [
       "                                                   data label\n",
       "855   [[0.02, 0.02, 0.02, 0.02, 0.02, 0.02, 0.024, 0...    AF\n",
       "1523  [[-0.015, -0.015, -0.015, -0.015, -0.015, -0.0...    SR\n",
       "80    [[0.095, 0.095, 0.095, 0.095, 0.095, 0.095, 0....    AF\n",
       "593   [[-0.195, -0.195, -0.195, -0.195, -0.195, -0.1...    AF\n",
       "1145  [[-0.04, -0.04, -0.04, -0.04, -0.04, -0.04, -0...    SR"
      ]
     },
     "execution_count": 7,
     "metadata": {},
     "output_type": "execute_result"
    }
   ],
   "source": [
    "ECG_df.head()"
   ]
  },
  {
   "cell_type": "code",
   "execution_count": 8,
   "id": "ddbccbd8",
   "metadata": {},
   "outputs": [
    {
     "data": {
      "text/plain": [
       "3117"
      ]
     },
     "execution_count": 8,
     "metadata": {},
     "output_type": "execute_result"
    }
   ],
   "source": [
    "import gc\n",
    "gc.collect()"
   ]
  },
  {
   "cell_type": "code",
   "execution_count": 9,
   "id": "b4c90cfb",
   "metadata": {},
   "outputs": [
    {
     "name": "stdout",
     "output_type": "stream",
     "text": [
      "Я в процессе\n",
      "Я кончил\n"
     ]
    },
    {
     "data": {
      "text/html": [
       "<div>\n",
       "<style scoped>\n",
       "    .dataframe tbody tr th:only-of-type {\n",
       "        vertical-align: middle;\n",
       "    }\n",
       "\n",
       "    .dataframe tbody tr th {\n",
       "        vertical-align: top;\n",
       "    }\n",
       "\n",
       "    .dataframe thead th {\n",
       "        text-align: right;\n",
       "    }\n",
       "</style>\n",
       "<table border=\"1\" class=\"dataframe\">\n",
       "  <thead>\n",
       "    <tr style=\"text-align: right;\">\n",
       "      <th></th>\n",
       "      <th>data</th>\n",
       "      <th>label</th>\n",
       "      <th>XY</th>\n",
       "      <th>YZ</th>\n",
       "      <th>ZX</th>\n",
       "    </tr>\n",
       "  </thead>\n",
       "  <tbody>\n",
       "    <tr>\n",
       "      <th>855</th>\n",
       "      <td>[[0.02, 0.02, 0.02, 0.02, 0.02, 0.02, 0.024, 0...</td>\n",
       "      <td>AF</td>\n",
       "      <td>[[255, 255, 255, 255, 255, 255, 255, 255, 255,...</td>\n",
       "      <td>[[255, 255, 255, 255, 255, 255, 255, 255, 255,...</td>\n",
       "      <td>[[255, 255, 255, 255, 255, 255, 255, 255, 255,...</td>\n",
       "    </tr>\n",
       "    <tr>\n",
       "      <th>1523</th>\n",
       "      <td>[[-0.015, -0.015, -0.015, -0.015, -0.015, -0.0...</td>\n",
       "      <td>SR</td>\n",
       "      <td>[[255, 255, 255, 255, 255, 255, 255, 255, 255,...</td>\n",
       "      <td>[[255, 255, 255, 255, 255, 255, 255, 255, 255,...</td>\n",
       "      <td>[[255, 255, 255, 255, 255, 255, 255, 255, 255,...</td>\n",
       "    </tr>\n",
       "    <tr>\n",
       "      <th>80</th>\n",
       "      <td>[[0.095, 0.095, 0.095, 0.095, 0.095, 0.095, 0....</td>\n",
       "      <td>AF</td>\n",
       "      <td>[[255, 255, 255, 255, 255, 255, 255, 255, 255,...</td>\n",
       "      <td>[[255, 255, 255, 255, 255, 255, 255, 255, 255,...</td>\n",
       "      <td>[[255, 255, 255, 255, 255, 255, 255, 255, 255,...</td>\n",
       "    </tr>\n",
       "    <tr>\n",
       "      <th>593</th>\n",
       "      <td>[[-0.195, -0.195, -0.195, -0.195, -0.195, -0.1...</td>\n",
       "      <td>AF</td>\n",
       "      <td>[[255, 255, 255, 255, 255, 255, 255, 255, 255,...</td>\n",
       "      <td>[[255, 255, 255, 255, 255, 255, 255, 255, 255,...</td>\n",
       "      <td>[[255, 255, 255, 255, 255, 255, 255, 255, 255,...</td>\n",
       "    </tr>\n",
       "    <tr>\n",
       "      <th>1145</th>\n",
       "      <td>[[-0.04, -0.04, -0.04, -0.04, -0.04, -0.04, -0...</td>\n",
       "      <td>SR</td>\n",
       "      <td>[[255, 255, 255, 255, 255, 255, 255, 255, 255,...</td>\n",
       "      <td>[[255, 255, 255, 255, 255, 255, 255, 255, 255,...</td>\n",
       "      <td>[[255, 255, 255, 255, 255, 255, 255, 255, 255,...</td>\n",
       "    </tr>\n",
       "  </tbody>\n",
       "</table>\n",
       "</div>"
      ],
      "text/plain": [
       "                                                   data label  \\\n",
       "855   [[0.02, 0.02, 0.02, 0.02, 0.02, 0.02, 0.024, 0...    AF   \n",
       "1523  [[-0.015, -0.015, -0.015, -0.015, -0.015, -0.0...    SR   \n",
       "80    [[0.095, 0.095, 0.095, 0.095, 0.095, 0.095, 0....    AF   \n",
       "593   [[-0.195, -0.195, -0.195, -0.195, -0.195, -0.1...    AF   \n",
       "1145  [[-0.04, -0.04, -0.04, -0.04, -0.04, -0.04, -0...    SR   \n",
       "\n",
       "                                                     XY  \\\n",
       "855   [[255, 255, 255, 255, 255, 255, 255, 255, 255,...   \n",
       "1523  [[255, 255, 255, 255, 255, 255, 255, 255, 255,...   \n",
       "80    [[255, 255, 255, 255, 255, 255, 255, 255, 255,...   \n",
       "593   [[255, 255, 255, 255, 255, 255, 255, 255, 255,...   \n",
       "1145  [[255, 255, 255, 255, 255, 255, 255, 255, 255,...   \n",
       "\n",
       "                                                     YZ  \\\n",
       "855   [[255, 255, 255, 255, 255, 255, 255, 255, 255,...   \n",
       "1523  [[255, 255, 255, 255, 255, 255, 255, 255, 255,...   \n",
       "80    [[255, 255, 255, 255, 255, 255, 255, 255, 255,...   \n",
       "593   [[255, 255, 255, 255, 255, 255, 255, 255, 255,...   \n",
       "1145  [[255, 255, 255, 255, 255, 255, 255, 255, 255,...   \n",
       "\n",
       "                                                     ZX  \n",
       "855   [[255, 255, 255, 255, 255, 255, 255, 255, 255,...  \n",
       "1523  [[255, 255, 255, 255, 255, 255, 255, 255, 255,...  \n",
       "80    [[255, 255, 255, 255, 255, 255, 255, 255, 255,...  \n",
       "593   [[255, 255, 255, 255, 255, 255, 255, 255, 255,...  \n",
       "1145  [[255, 255, 255, 255, 255, 255, 255, 255, 255,...  "
      ]
     },
     "execution_count": 9,
     "metadata": {},
     "output_type": "execute_result"
    }
   ],
   "source": [
    "vecg.init(filtering=True, canc_showing=True, plot3D=False, enable_centering = True, enable_local_normalize=True)\n",
    "ECG_df = vecg.make_vecg_df(ECG_df, 0, 2)\n",
    "ECG_df.head()"
   ]
  },
  {
   "cell_type": "code",
   "execution_count": 10,
   "id": "6628308c",
   "metadata": {},
   "outputs": [],
   "source": [
    "# for index, row in ECG_df.iterrows():\n",
    "#        vecg.make_df(ECG_df[\"data\"][index])\n",
    "#        vecg.filter()\n",
    "#        ECG_df.at[index, \"data\"] = np.array(vecg.return_filtered()).T"
   ]
  },
  {
   "cell_type": "code",
   "execution_count": 11,
   "id": "f4a02f1d",
   "metadata": {},
   "outputs": [],
   "source": [
    "# max_list = vecg.return_max_list()\n",
    "# print(max_list)\n",
    "# for i in max_list:\n",
    "#     plt.figure(figsize=(29, 7), dpi=68)\n",
    "#     plt.subplot(1, 4, 1)\n",
    "#     plt.imshow(ECG_df[\"ZX\"][i])\n",
    "#     plt.title('Сагиттальная плоскость')\n",
    "#     plt.xlabel('X')\n",
    "#     plt.ylabel('Z')\n",
    "\n",
    "#     plt.subplot(1, 4, 2)\n",
    "#     plt.imshow(ECG_df[\"XY\"][i])\n",
    "#     plt.title('Аксиальная плоскость')  \n",
    "#     plt.xlabel('Y')\n",
    "#     plt.ylabel('X')\n",
    "\n",
    "#     plt.subplot(1, 4, 3)\n",
    "#     plt.imshow(ECG_df[\"YZ\"][i])\n",
    "#     plt.title('Фронтальная плоскость')\n",
    "#     plt.xlabel('Y')\n",
    "#     plt.ylabel('Z')\n",
    "\n",
    "#     plt.subplot(1, 4, 4)\n",
    "#     plt.plot(ECG_df[\"data\"][i][0])\n",
    "#     plt.xlim([0, 1000])\n",
    "\n",
    "#     plt.savefig(\"local_normalize_images/\" + str(i) + \".png\", format=\"png\")\n",
    "#     plt.show()"
   ]
  },
  {
   "cell_type": "code",
   "execution_count": 12,
   "id": "43b13861",
   "metadata": {},
   "outputs": [
    {
     "data": {
      "text/plain": [
       "1089648"
      ]
     },
     "execution_count": 12,
     "metadata": {},
     "output_type": "execute_result"
    }
   ],
   "source": [
    "#ECG_df.to_csv(\"2000_2_classes_vec.csv\")\n",
    "import gc\n",
    "gc.collect()"
   ]
  },
  {
   "cell_type": "code",
   "execution_count": 13,
   "id": "6763626f",
   "metadata": {},
   "outputs": [
    {
     "data": {
      "image/png": "[encoded data removed]",
      "text/plain": [
       "<Figure size 1200x400 with 4 Axes>"
      ]
     },
     "metadata": {},
     "output_type": "display_data"
    }
   ],
   "source": [
    "fig, (ax1, ax2, ax3, ax4) = plt.subplots(nrows = 1, ncols = 4, figsize = (12,4))\n",
    "\n",
    "i = 0\n",
    "\n",
    "fig.suptitle(ECG_df.iloc[i,1])\n",
    "ax1.imshow(ECG_df.iloc[i,2], cmap = 'gray')\n",
    "ax1.set_title('XY')\n",
    "ax2.imshow(ECG_df.iloc[i,3], cmap = 'gray')\n",
    "ax2.set_title('YZ')\n",
    "ax3.imshow(ECG_df.iloc[i,4], cmap = 'gray')\n",
    "ax3.set_title('ZX');\n",
    "ax4.plot(ECG_df.iloc[i,0][0])\n",
    "ax4.set_title('ECG');"
   ]
  },
  {
   "cell_type": "code",
   "execution_count": 14,
   "id": "04eeb92f",
   "metadata": {},
   "outputs": [],
   "source": [
    "ECG_df = ECG_df.sample(frac = 1) # Вручную перемешиваем датафрейм\n",
    "# Формируем непосредственно набор данных и меток:\n",
    "X_ECG = np.array([ECG_df.iloc[:,2].tolist(),\n",
    "                 ECG_df.iloc[:,3].tolist(),\n",
    "                 ECG_df.iloc[:,4].tolist()])\n",
    "X_ECG = np.transpose(X_ECG, (1, 2, 3, 0))\n",
    "X_ECG[X_ECG == 255 ] = 0\n",
    "X_ECG[X_ECG != 0] = 255\n",
    "y_ECG = np.array(ECG_df.iloc[:,1].tolist())"
   ]
  },
  {
   "cell_type": "code",
   "execution_count": 15,
   "id": "3f1666bc",
   "metadata": {},
   "outputs": [
    {
     "data": {
      "image/png": "[encoded data removed]",
      "text/plain": [
       "<Figure size 1200x400 with 3 Axes>"
      ]
     },
     "metadata": {},
     "output_type": "display_data"
    }
   ],
   "source": [
    "fig, (ax1, ax2, ax3) = plt.subplots(nrows = 1, ncols = 3, figsize = (12,4))\n",
    "\n",
    "i = 0\n",
    "\n",
    "fig.suptitle(y_ECG[i])\n",
    "ax1.imshow(X_ECG[i,:,:,0], cmap = 'inferno')\n",
    "ax1.set_title('XY')\n",
    "ax2.imshow(X_ECG[i,:,:,1], cmap = 'inferno')\n",
    "ax2.set_title('YZ')\n",
    "ax3.imshow(X_ECG[i,:,:,2], cmap = 'inferno')\n",
    "ax3.set_title('ZX');"
   ]
  },
  {
   "cell_type": "markdown",
   "id": "c0f3b5ea",
   "metadata": {},
   "source": [
    "## Разбиение на тренировочную и тестовую выборки + OneHotEncoder"
   ]
  },
  {
   "cell_type": "code",
   "execution_count": 16,
   "id": "0727ecdf",
   "metadata": {},
   "outputs": [
    {
     "data": {
      "text/plain": [
       "47"
      ]
     },
     "execution_count": 16,
     "metadata": {},
     "output_type": "execute_result"
    }
   ],
   "source": [
    "import gc\n",
    "gc.collect()"
   ]
  },
  {
   "cell_type": "code",
   "execution_count": 17,
   "id": "c84ee681",
   "metadata": {},
   "outputs": [
    {
     "data": {
      "text/plain": [
       "'\\nЗдесь можно покрутить параметры разбивки данных на тренировочные и тестовые - настроить процентаж разбвики, например.\\n'"
      ]
     },
     "execution_count": 17,
     "metadata": {},
     "output_type": "execute_result"
    }
   ],
   "source": [
    "# Производим деление выборки на тренировочную и тестовую\n",
    "X_train, X_test = (X_ECG[:int(data_size *10/11)*2], X_ECG[int(data_size *10/11)*2:data_size*2])\n",
    "y_train, y_test = (y_ECG[:int(data_size *10/11)*2], y_ECG[int(data_size *10/11)*2:data_size*2])\n",
    "\"\"\"\n",
    "Здесь можно покрутить параметры разбивки данных на тренировочные и тестовые - настроить процентаж разбвики, например.\n",
    "\"\"\"\n",
    "\n"
   ]
  },
  {
   "cell_type": "code",
   "execution_count": 18,
   "id": "6e92e0ed",
   "metadata": {},
   "outputs": [],
   "source": [
    "X_ECG = 0\n",
    "y_ECG = 0\n",
    "# ECG_df = ECG_df.iloc[0, 0]"
   ]
  },
  {
   "cell_type": "code",
   "execution_count": 19,
   "id": "64be9e1e",
   "metadata": {},
   "outputs": [],
   "source": [
    "ECG_df = 0"
   ]
  },
  {
   "cell_type": "code",
   "execution_count": 20,
   "id": "b0b542b7",
   "metadata": {},
   "outputs": [],
   "source": [
    "\n",
    "# Нормируем данные\n",
    "X_train = X_train.astype('float16')\n",
    "X_test = X_test.astype('float16')\n",
    "gc.collect()\n",
    "X_train = X_train / 255.0 * 0.99 + 0.01\n",
    "X_test = X_test / 255.0 * 0.99 + 0.01"
   ]
  },
  {
   "cell_type": "code",
   "execution_count": 21,
   "id": "73a1d17c",
   "metadata": {},
   "outputs": [
    {
     "name": "stdout",
     "output_type": "stream",
     "text": [
      "Метка класса перед энкодингом: ['AF' 'AF' 'SR' 'SR' 'AF' 'SR' 'AF' 'AF' 'AF' 'SR']\n",
      "Метка класса после энкодинга: [[1. 0.]\n",
      " [1. 0.]\n",
      " [0. 1.]\n",
      " [0. 1.]\n",
      " [1. 0.]\n",
      " [0. 1.]\n",
      " [1. 0.]\n",
      " [1. 0.]\n",
      " [1. 0.]\n",
      " [0. 1.]]\n"
     ]
    },
    {
     "data": {
      "text/plain": [
       "[array(['AF', 'SR'], dtype='<U2')]"
      ]
     },
     "execution_count": 21,
     "metadata": {},
     "output_type": "execute_result"
    }
   ],
   "source": [
    "\n",
    "# Производим энкодинг полученных меток классов в удобный для обработки сетью вид\n",
    "print('Метка класса перед энкодингом:', y_train[:10])\n",
    "encoder = OneHotEncoder()\n",
    "encoder.fit(y_train.reshape(-1, 1))\n",
    "y_train = encoder.transform(y_train.reshape(-1, 1)).toarray()\n",
    "y_test = encoder.transform(y_test.reshape(-1, 1)).toarray()\n",
    "print('Метка класса после энкодинга:', y_train[:10])\n",
    "encoder.categories_"
   ]
  },
  {
   "cell_type": "markdown",
   "id": "fe9f55b1",
   "metadata": {},
   "source": [
    "## Написание класса нейронной сети на основе ResNet18 и её компоновка"
   ]
  },
  {
   "cell_type": "markdown",
   "id": "0eda2609",
   "metadata": {},
   "source": [
    "***Тут не знаю, что можно поменять, т.к. если менять саму архитектуру, то засесть можем тут надолго. Предложение было сконцентрироваться на одной архитектуре, поэтому советую пока внутренности класса не доставать и не менять :3***"
   ]
  },
  {
   "cell_type": "code",
   "execution_count": 22,
   "id": "188ddd91",
   "metadata": {},
   "outputs": [],
   "source": [
    "\"\"\"\n",
    "Стандартный блок архитектуры ResNet:\n",
    "\"\"\"\n",
    "\n",
    "class ResnetBlock(Model):\n",
    "    \n",
    "    def __init__(self, channels: int, down_sample=False): # channels: количество каналов = количество ядер свёртки\n",
    "\n",
    "        super().__init__() # Перенимаем инициализируемые параметры у материнского класса Model\n",
    "\n",
    "        self.__channels = channels # Задаём количество каналов (ядер свёртки)\n",
    "        self.__down_sample = down_sample # Задаём параметр, отвечающий за сжатие\n",
    "        self.__strides = [2, 1] if down_sample else [1, 1] # Задаём шаги ядер при свёртке\n",
    "        # (в случае down_sample = True, шаг увеличивается в 2 раза и, следовательно, производится сжатие в 2 раза)\n",
    "\n",
    "        KERNEL_SIZE = (3, 3) # Размер ядра\n",
    "        INIT_SCHEME = \"he_normal\" # Закон генерации весов в ядре (здесь нормальный закон)\n",
    "\n",
    "        self.conv_1 = Conv2D(self.__channels, strides=self.__strides[0],\n",
    "                             kernel_size=KERNEL_SIZE, padding=\"same\", kernel_initializer=INIT_SCHEME) # Первый слой 2D свёртки\n",
    "        self.bn_1 = BatchNormalization() # Нормализация значений, полученных на предыдущем слое\n",
    "        self.conv_2 = Conv2D(self.__channels, strides=self.__strides[1],\n",
    "                             kernel_size=KERNEL_SIZE, padding=\"same\", kernel_initializer=INIT_SCHEME) # Второй слой 2D свёртки\n",
    "        self.bn_2 = BatchNormalization()\n",
    "        self.merge = Add() # Слой поэлементного сложения (пока ничего не складывает, сложение будет дальше)\n",
    "\n",
    "        if self.__down_sample:\n",
    "            # Производим сжатие данных в случае down_sample = True\n",
    "            self.res_conv = Conv2D(\n",
    "                self.__channels, strides=2, kernel_size=(1, 1), kernel_initializer=INIT_SCHEME, padding=\"same\")\n",
    "            self.res_bn = BatchNormalization()\n",
    "\n",
    "    def call(self, inputs):\n",
    "        res = inputs # Сохраняем исходные данные\n",
    "        \n",
    "        # Производим обработку входных данных по слоям блока:\n",
    "        x = self.conv_1(inputs)\n",
    "        x = self.bn_1(x)\n",
    "        x = tf.nn.relu(x)\n",
    "        x = self.conv_2(x)\n",
    "        x = self.bn_2(x)\n",
    "\n",
    "        if self.__down_sample:\n",
    "            res = self.res_conv(res)\n",
    "            res = self.res_bn(res)\n",
    "\n",
    "        x = self.merge([x, res])\n",
    "        out = tf.nn.relu(x)\n",
    "        return out # Выводим результат обработки блоком ResNet входных данных\n",
    "\n",
    "\n",
    "\"\"\"\n",
    "Непосредственно архитектура ResNet18:\n",
    "\"\"\"\n",
    "\n",
    "class ResNet18(Model):\n",
    "\n",
    "    def __init__(self, num_classes, **kwargs): # num_classes: количество классов в решаемой задаче\n",
    "\n",
    "        super().__init__(**kwargs)\n",
    "        \n",
    "        \n",
    "        # Собираем архитектуру из готовых блоков, созданных нами ранее:\n",
    "        self.conv_1 = Conv2D(64, (7, 7), strides=2,\n",
    "                             padding=\"same\", kernel_initializer=\"he_normal\")\n",
    "        self.init_bn = BatchNormalization()\n",
    "        self.pool_2 = MaxPool2D(pool_size=(3, 3), strides=2, padding=\"same\")\n",
    "        self.res_1_1 = ResnetBlock(64)\n",
    "        self.res_1_2 = ResnetBlock(64)\n",
    "        self.res_2_1 = ResnetBlock(128, down_sample=True)\n",
    "        self.res_2_2 = ResnetBlock(128)\n",
    "        self.res_3_1 = ResnetBlock(256, down_sample=True)\n",
    "        self.res_3_2 = ResnetBlock(256)\n",
    "        self.res_4_1 = ResnetBlock(512, down_sample=True)\n",
    "        self.res_4_2 = ResnetBlock(512)\n",
    "        self.avg_pool = GlobalAveragePooling2D()\n",
    "        self.flat = Flatten()\n",
    "        self.fc = Dense(num_classes, activation=\"softmax\")\n",
    "        \n",
    "    def call(self, inputs):\n",
    "        \n",
    "        # Производим обработку входных данных по слоям сети:\n",
    "        out = self.conv_1(inputs)\n",
    "        out = self.init_bn(out)\n",
    "        out = tf.nn.relu(out)\n",
    "        out = self.pool_2(out)\n",
    "        for res_block in [self.res_1_1, self.res_1_2, self.res_2_1, self.res_2_2, self.res_3_1, self.res_3_2, self.res_4_1, self.res_4_2]:\n",
    "            out = res_block(out)\n",
    "        out = self.avg_pool(out)\n",
    "        out = self.flat(out)\n",
    "        out = self.fc(out)\n",
    "        return out"
   ]
  },
  {
   "cell_type": "code",
   "execution_count": 23,
   "id": "0817de25",
   "metadata": {},
   "outputs": [
    {
     "name": "stdout",
     "output_type": "stream",
     "text": [
      "WARNING:tensorflow:From d:\\Anaconda\\Lib\\site-packages\\keras\\src\\backend.py:873: The name tf.get_default_graph is deprecated. Please use tf.compat.v1.get_default_graph instead.\n",
      "\n",
      "WARNING:tensorflow:From d:\\Anaconda\\Lib\\site-packages\\keras\\src\\layers\\pooling\\max_pooling2d.py:161: The name tf.nn.max_pool is deprecated. Please use tf.nn.max_pool2d instead.\n",
      "\n",
      "WARNING:tensorflow:From d:\\Anaconda\\Lib\\site-packages\\keras\\src\\engine\\base_layer_utils.py:189: The name tf.placeholder is deprecated. Please use tf.compat.v1.placeholder instead.\n",
      "\n",
      "WARNING:tensorflow:AutoGraph could not transform <bound method ResnetBlock.call of <__main__.ResnetBlock object at 0x0000020B70798E10>> and will run it as-is.\n",
      "Cause: mangled names are not yet supported\n",
      "To silence this warning, decorate the function with @tf.autograph.experimental.do_not_convert\n",
      "WARNING: AutoGraph could not transform <bound method ResnetBlock.call of <__main__.ResnetBlock object at 0x0000020B70798E10>> and will run it as-is.\n",
      "Cause: mangled names are not yet supported\n",
      "To silence this warning, decorate the function with @tf.autograph.experimental.do_not_convert\n",
      "Model: \"res_net18\"\n",
      "_________________________________________________________________\n",
      " Layer (type)                Output Shape              Param #   \n",
      "=================================================================\n",
      " conv2d (Conv2D)             multiple                  9472      \n",
      "                                                                 \n",
      " batch_normalization (Batch  multiple                  256       \n",
      " Normalization)                                                  \n",
      "                                                                 \n",
      " max_pooling2d (MaxPooling2  multiple                  0         \n",
      " D)                                                              \n",
      "                                                                 \n",
      " resnet_block (ResnetBlock)  multiple                  74368     \n",
      "                                                                 \n",
      " resnet_block_1 (ResnetBloc  multiple                  74368     \n",
      " k)                                                              \n",
      "                                                                 \n",
      " resnet_block_2 (ResnetBloc  multiple                  231296    \n",
      " k)                                                              \n",
      "                                                                 \n",
      " resnet_block_3 (ResnetBloc  multiple                  296192    \n",
      " k)                                                              \n",
      "                                                                 \n",
      " resnet_block_4 (ResnetBloc  multiple                  921344    \n",
      " k)                                                              \n",
      "                                                                 \n",
      " resnet_block_5 (ResnetBloc  multiple                  1182208   \n",
      " k)                                                              \n",
      "                                                                 \n",
      " resnet_block_6 (ResnetBloc  multiple                  3677696   \n",
      " k)                                                              \n",
      "                                                                 \n",
      " resnet_block_7 (ResnetBloc  multiple                  4723712   \n",
      " k)                                                              \n",
      "                                                                 \n",
      " global_average_pooling2d (  multiple                  0         \n",
      " GlobalAveragePooling2D)                                         \n",
      "                                                                 \n",
      " flatten (Flatten)           multiple                  0         \n",
      "                                                                 \n",
      " dense (Dense)               multiple                  1026      \n",
      "                                                                 \n",
      "=================================================================\n",
      "Total params: 11191938 (42.69 MB)\n",
      "Trainable params: 11182338 (42.66 MB)\n",
      "Non-trainable params: 9600 (37.50 KB)\n",
      "_________________________________________________________________\n"
     ]
    }
   ],
   "source": [
    "model = ResNet18(2)\n",
    "\n",
    "\n",
    "\n",
    "\n",
    "\n",
    "\n",
    "# Строим модель исходя из заложенного размера объектов\n",
    "length = X_train.shape[1] # Длина картинки\n",
    "width = X_train.shape[2] # Ширина картинки\n",
    "channels = X_train.shape[3] # Количество картинок в одном объекте (число каналов)\n",
    "model.build(input_shape = (None, length, width, channels))\n",
    "\"\"\"\n",
    "Если будут какие-то интересные идеи усечения размеров картинок, подаваемых на вход в нейронку,\n",
    "то предлагаю здесь пошаманить с длиной, шириной и количеством каналов.\n",
    "\"\"\"\n",
    "\n",
    "\n",
    "\n",
    "\n",
    "\n",
    "# Используем категориальную кроссэнтропию для классов, представленных через one-hot encoding\n",
    "opt = SGD(learning_rate = 0.0001) # Оптимизатор, предложенный в источнике\n",
    "#opt = Adam(learning_rate = 0.0001)\n",
    "model.compile(optimizer = opt, loss='categorical_crossentropy', metrics=[\"accuracy\"])\n",
    "model.summary()"
   ]
  },
  {
   "cell_type": "markdown",
   "id": "27fb6194",
   "metadata": {},
   "source": [
    "## Обучение нейросети"
   ]
  },
  {
   "cell_type": "code",
   "execution_count": 24,
   "id": "cc87c867",
   "metadata": {},
   "outputs": [
    {
     "data": {
      "text/plain": [
       "2503"
      ]
     },
     "execution_count": 24,
     "metadata": {},
     "output_type": "execute_result"
    }
   ],
   "source": [
    "gc.collect()"
   ]
  },
  {
   "cell_type": "code",
   "execution_count": 25,
   "id": "ea3f0bb4",
   "metadata": {},
   "outputs": [
    {
     "name": "stdout",
     "output_type": "stream",
     "text": [
      "Epoch 1/50\n",
      "WARNING:tensorflow:From d:\\Anaconda\\Lib\\site-packages\\keras\\src\\utils\\tf_utils.py:492: The name tf.ragged.RaggedTensorValue is deprecated. Please use tf.compat.v1.ragged.RaggedTensorValue instead.\n",
      "\n",
      "12/12 [==============================] - 89s 6s/step - loss: 0.7166 - accuracy: 0.4500 - val_loss: 0.6660 - val_accuracy: 0.6500\n",
      "Epoch 2/50\n",
      "12/12 [==============================] - 78s 7s/step - loss: 0.7087 - accuracy: 0.4444 - val_loss: 0.6206 - val_accuracy: 0.6500\n",
      "Epoch 3/50\n",
      "12/12 [==============================] - 82s 7s/step - loss: 0.7034 - accuracy: 0.4722 - val_loss: 0.6512 - val_accuracy: 0.6500\n",
      "Epoch 4/50\n",
      " 4/12 [=========>....................] - ETA: 56s - loss: 0.7037 - accuracy: 0.3833 "
     ]
    },
    {
     "ename": "KeyboardInterrupt",
     "evalue": "",
     "output_type": "error",
     "traceback": [
      "\u001b[1;31m---------------------------------------------------------------------------\u001b[0m",
      "\u001b[1;31mKeyboardInterrupt\u001b[0m                         Traceback (most recent call last)",
      "Cell \u001b[1;32mIn[25], line 4\u001b[0m\n\u001b[0;32m      2\u001b[0m batch \u001b[38;5;241m=\u001b[39m \u001b[38;5;241m15\u001b[39m\n\u001b[0;32m      3\u001b[0m STEPS \u001b[38;5;241m=\u001b[39m \u001b[38;5;28mlen\u001b[39m(X_train) \u001b[38;5;241m/\u001b[39m batch\n\u001b[1;32m----> 4\u001b[0m history \u001b[38;5;241m=\u001b[39m model\u001b[38;5;241m.\u001b[39mfit(\n\u001b[0;32m      5\u001b[0m     X_train, y_train,\n\u001b[0;32m      6\u001b[0m     steps_per_epoch\u001b[38;5;241m=\u001b[39mSTEPS,\n\u001b[0;32m      7\u001b[0m     batch_size \u001b[38;5;241m=\u001b[39m batch,\n\u001b[0;32m      8\u001b[0m     epochs \u001b[38;5;241m=\u001b[39m \u001b[38;5;241m50\u001b[39m,\n\u001b[0;32m      9\u001b[0m     validation_data\u001b[38;5;241m=\u001b[39m(X_test, y_test),\n\u001b[0;32m     10\u001b[0m     callbacks\u001b[38;5;241m=\u001b[39m[es]\n\u001b[0;32m     11\u001b[0m )\n",
      "File \u001b[1;32md:\\Anaconda\\Lib\\site-packages\\keras\\src\\utils\\traceback_utils.py:65\u001b[0m, in \u001b[0;36mfilter_traceback.<locals>.error_handler\u001b[1;34m(*args, **kwargs)\u001b[0m\n\u001b[0;32m     63\u001b[0m filtered_tb \u001b[38;5;241m=\u001b[39m \u001b[38;5;28;01mNone\u001b[39;00m\n\u001b[0;32m     64\u001b[0m \u001b[38;5;28;01mtry\u001b[39;00m:\n\u001b[1;32m---> 65\u001b[0m     \u001b[38;5;28;01mreturn\u001b[39;00m fn(\u001b[38;5;241m*\u001b[39margs, \u001b[38;5;241m*\u001b[39m\u001b[38;5;241m*\u001b[39mkwargs)\n\u001b[0;32m     66\u001b[0m \u001b[38;5;28;01mexcept\u001b[39;00m \u001b[38;5;167;01mException\u001b[39;00m \u001b[38;5;28;01mas\u001b[39;00m e:\n\u001b[0;32m     67\u001b[0m     filtered_tb \u001b[38;5;241m=\u001b[39m _process_traceback_frames(e\u001b[38;5;241m.\u001b[39m__traceback__)\n",
      "File \u001b[1;32md:\\Anaconda\\Lib\\site-packages\\keras\\src\\engine\\training.py:1807\u001b[0m, in \u001b[0;36mModel.fit\u001b[1;34m(self, x, y, batch_size, epochs, verbose, callbacks, validation_split, validation_data, shuffle, class_weight, sample_weight, initial_epoch, steps_per_epoch, validation_steps, validation_batch_size, validation_freq, max_queue_size, workers, use_multiprocessing)\u001b[0m\n\u001b[0;32m   1799\u001b[0m \u001b[38;5;28;01mwith\u001b[39;00m tf\u001b[38;5;241m.\u001b[39mprofiler\u001b[38;5;241m.\u001b[39mexperimental\u001b[38;5;241m.\u001b[39mTrace(\n\u001b[0;32m   1800\u001b[0m     \u001b[38;5;124m\"\u001b[39m\u001b[38;5;124mtrain\u001b[39m\u001b[38;5;124m\"\u001b[39m,\n\u001b[0;32m   1801\u001b[0m     epoch_num\u001b[38;5;241m=\u001b[39mepoch,\n\u001b[1;32m   (...)\u001b[0m\n\u001b[0;32m   1804\u001b[0m     _r\u001b[38;5;241m=\u001b[39m\u001b[38;5;241m1\u001b[39m,\n\u001b[0;32m   1805\u001b[0m ):\n\u001b[0;32m   1806\u001b[0m     callbacks\u001b[38;5;241m.\u001b[39mon_train_batch_begin(step)\n\u001b[1;32m-> 1807\u001b[0m     tmp_logs \u001b[38;5;241m=\u001b[39m \u001b[38;5;28mself\u001b[39m\u001b[38;5;241m.\u001b[39mtrain_function(iterator)\n\u001b[0;32m   1808\u001b[0m     \u001b[38;5;28;01mif\u001b[39;00m data_handler\u001b[38;5;241m.\u001b[39mshould_sync:\n\u001b[0;32m   1809\u001b[0m         context\u001b[38;5;241m.\u001b[39masync_wait()\n",
      "File \u001b[1;32md:\\Anaconda\\Lib\\site-packages\\tensorflow\\python\\util\\traceback_utils.py:150\u001b[0m, in \u001b[0;36mfilter_traceback.<locals>.error_handler\u001b[1;34m(*args, **kwargs)\u001b[0m\n\u001b[0;32m    148\u001b[0m filtered_tb \u001b[38;5;241m=\u001b[39m \u001b[38;5;28;01mNone\u001b[39;00m\n\u001b[0;32m    149\u001b[0m \u001b[38;5;28;01mtry\u001b[39;00m:\n\u001b[1;32m--> 150\u001b[0m   \u001b[38;5;28;01mreturn\u001b[39;00m fn(\u001b[38;5;241m*\u001b[39margs, \u001b[38;5;241m*\u001b[39m\u001b[38;5;241m*\u001b[39mkwargs)\n\u001b[0;32m    151\u001b[0m \u001b[38;5;28;01mexcept\u001b[39;00m \u001b[38;5;167;01mException\u001b[39;00m \u001b[38;5;28;01mas\u001b[39;00m e:\n\u001b[0;32m    152\u001b[0m   filtered_tb \u001b[38;5;241m=\u001b[39m _process_traceback_frames(e\u001b[38;5;241m.\u001b[39m__traceback__)\n",
      "File \u001b[1;32md:\\Anaconda\\Lib\\site-packages\\tensorflow\\python\\eager\\polymorphic_function\\polymorphic_function.py:832\u001b[0m, in \u001b[0;36mFunction.__call__\u001b[1;34m(self, *args, **kwds)\u001b[0m\n\u001b[0;32m    829\u001b[0m compiler \u001b[38;5;241m=\u001b[39m \u001b[38;5;124m\"\u001b[39m\u001b[38;5;124mxla\u001b[39m\u001b[38;5;124m\"\u001b[39m \u001b[38;5;28;01mif\u001b[39;00m \u001b[38;5;28mself\u001b[39m\u001b[38;5;241m.\u001b[39m_jit_compile \u001b[38;5;28;01melse\u001b[39;00m \u001b[38;5;124m\"\u001b[39m\u001b[38;5;124mnonXla\u001b[39m\u001b[38;5;124m\"\u001b[39m\n\u001b[0;32m    831\u001b[0m \u001b[38;5;28;01mwith\u001b[39;00m OptionalXlaContext(\u001b[38;5;28mself\u001b[39m\u001b[38;5;241m.\u001b[39m_jit_compile):\n\u001b[1;32m--> 832\u001b[0m   result \u001b[38;5;241m=\u001b[39m \u001b[38;5;28mself\u001b[39m\u001b[38;5;241m.\u001b[39m_call(\u001b[38;5;241m*\u001b[39margs, \u001b[38;5;241m*\u001b[39m\u001b[38;5;241m*\u001b[39mkwds)\n\u001b[0;32m    834\u001b[0m new_tracing_count \u001b[38;5;241m=\u001b[39m \u001b[38;5;28mself\u001b[39m\u001b[38;5;241m.\u001b[39mexperimental_get_tracing_count()\n\u001b[0;32m    835\u001b[0m without_tracing \u001b[38;5;241m=\u001b[39m (tracing_count \u001b[38;5;241m==\u001b[39m new_tracing_count)\n",
      "File \u001b[1;32md:\\Anaconda\\Lib\\site-packages\\tensorflow\\python\\eager\\polymorphic_function\\polymorphic_function.py:868\u001b[0m, in \u001b[0;36mFunction._call\u001b[1;34m(self, *args, **kwds)\u001b[0m\n\u001b[0;32m    865\u001b[0m   \u001b[38;5;28mself\u001b[39m\u001b[38;5;241m.\u001b[39m_lock\u001b[38;5;241m.\u001b[39mrelease()\n\u001b[0;32m    866\u001b[0m   \u001b[38;5;66;03m# In this case we have created variables on the first call, so we run the\u001b[39;00m\n\u001b[0;32m    867\u001b[0m   \u001b[38;5;66;03m# defunned version which is guaranteed to never create variables.\u001b[39;00m\n\u001b[1;32m--> 868\u001b[0m   \u001b[38;5;28;01mreturn\u001b[39;00m tracing_compilation\u001b[38;5;241m.\u001b[39mcall_function(\n\u001b[0;32m    869\u001b[0m       args, kwds, \u001b[38;5;28mself\u001b[39m\u001b[38;5;241m.\u001b[39m_no_variable_creation_config\n\u001b[0;32m    870\u001b[0m   )\n\u001b[0;32m    871\u001b[0m \u001b[38;5;28;01melif\u001b[39;00m \u001b[38;5;28mself\u001b[39m\u001b[38;5;241m.\u001b[39m_variable_creation_config \u001b[38;5;129;01mis\u001b[39;00m \u001b[38;5;129;01mnot\u001b[39;00m \u001b[38;5;28;01mNone\u001b[39;00m:\n\u001b[0;32m    872\u001b[0m   \u001b[38;5;66;03m# Release the lock early so that multiple threads can perform the call\u001b[39;00m\n\u001b[0;32m    873\u001b[0m   \u001b[38;5;66;03m# in parallel.\u001b[39;00m\n\u001b[0;32m    874\u001b[0m   \u001b[38;5;28mself\u001b[39m\u001b[38;5;241m.\u001b[39m_lock\u001b[38;5;241m.\u001b[39mrelease()\n",
      "File \u001b[1;32md:\\Anaconda\\Lib\\site-packages\\tensorflow\\python\\eager\\polymorphic_function\\tracing_compilation.py:139\u001b[0m, in \u001b[0;36mcall_function\u001b[1;34m(args, kwargs, tracing_options)\u001b[0m\n\u001b[0;32m    137\u001b[0m bound_args \u001b[38;5;241m=\u001b[39m function\u001b[38;5;241m.\u001b[39mfunction_type\u001b[38;5;241m.\u001b[39mbind(\u001b[38;5;241m*\u001b[39margs, \u001b[38;5;241m*\u001b[39m\u001b[38;5;241m*\u001b[39mkwargs)\n\u001b[0;32m    138\u001b[0m flat_inputs \u001b[38;5;241m=\u001b[39m function\u001b[38;5;241m.\u001b[39mfunction_type\u001b[38;5;241m.\u001b[39munpack_inputs(bound_args)\n\u001b[1;32m--> 139\u001b[0m \u001b[38;5;28;01mreturn\u001b[39;00m function\u001b[38;5;241m.\u001b[39m_call_flat(  \u001b[38;5;66;03m# pylint: disable=protected-access\u001b[39;00m\n\u001b[0;32m    140\u001b[0m     flat_inputs, captured_inputs\u001b[38;5;241m=\u001b[39mfunction\u001b[38;5;241m.\u001b[39mcaptured_inputs\n\u001b[0;32m    141\u001b[0m )\n",
      "File \u001b[1;32md:\\Anaconda\\Lib\\site-packages\\tensorflow\\python\\eager\\polymorphic_function\\concrete_function.py:1323\u001b[0m, in \u001b[0;36mConcreteFunction._call_flat\u001b[1;34m(self, tensor_inputs, captured_inputs)\u001b[0m\n\u001b[0;32m   1319\u001b[0m possible_gradient_type \u001b[38;5;241m=\u001b[39m gradients_util\u001b[38;5;241m.\u001b[39mPossibleTapeGradientTypes(args)\n\u001b[0;32m   1320\u001b[0m \u001b[38;5;28;01mif\u001b[39;00m (possible_gradient_type \u001b[38;5;241m==\u001b[39m gradients_util\u001b[38;5;241m.\u001b[39mPOSSIBLE_GRADIENT_TYPES_NONE\n\u001b[0;32m   1321\u001b[0m     \u001b[38;5;129;01mand\u001b[39;00m executing_eagerly):\n\u001b[0;32m   1322\u001b[0m   \u001b[38;5;66;03m# No tape is watching; skip to running the function.\u001b[39;00m\n\u001b[1;32m-> 1323\u001b[0m   \u001b[38;5;28;01mreturn\u001b[39;00m \u001b[38;5;28mself\u001b[39m\u001b[38;5;241m.\u001b[39m_inference_function\u001b[38;5;241m.\u001b[39mcall_preflattened(args)\n\u001b[0;32m   1324\u001b[0m forward_backward \u001b[38;5;241m=\u001b[39m \u001b[38;5;28mself\u001b[39m\u001b[38;5;241m.\u001b[39m_select_forward_and_backward_functions(\n\u001b[0;32m   1325\u001b[0m     args,\n\u001b[0;32m   1326\u001b[0m     possible_gradient_type,\n\u001b[0;32m   1327\u001b[0m     executing_eagerly)\n\u001b[0;32m   1328\u001b[0m forward_function, args_with_tangents \u001b[38;5;241m=\u001b[39m forward_backward\u001b[38;5;241m.\u001b[39mforward()\n",
      "File \u001b[1;32md:\\Anaconda\\Lib\\site-packages\\tensorflow\\python\\eager\\polymorphic_function\\atomic_function.py:216\u001b[0m, in \u001b[0;36mAtomicFunction.call_preflattened\u001b[1;34m(self, args)\u001b[0m\n\u001b[0;32m    214\u001b[0m \u001b[38;5;28;01mdef\u001b[39;00m \u001b[38;5;21mcall_preflattened\u001b[39m(\u001b[38;5;28mself\u001b[39m, args: Sequence[core\u001b[38;5;241m.\u001b[39mTensor]) \u001b[38;5;241m-\u001b[39m\u001b[38;5;241m>\u001b[39m Any:\n\u001b[0;32m    215\u001b[0m \u001b[38;5;250m  \u001b[39m\u001b[38;5;124;03m\"\"\"Calls with flattened tensor inputs and returns the structured output.\"\"\"\u001b[39;00m\n\u001b[1;32m--> 216\u001b[0m   flat_outputs \u001b[38;5;241m=\u001b[39m \u001b[38;5;28mself\u001b[39m\u001b[38;5;241m.\u001b[39mcall_flat(\u001b[38;5;241m*\u001b[39margs)\n\u001b[0;32m    217\u001b[0m   \u001b[38;5;28;01mreturn\u001b[39;00m \u001b[38;5;28mself\u001b[39m\u001b[38;5;241m.\u001b[39mfunction_type\u001b[38;5;241m.\u001b[39mpack_output(flat_outputs)\n",
      "File \u001b[1;32md:\\Anaconda\\Lib\\site-packages\\tensorflow\\python\\eager\\polymorphic_function\\atomic_function.py:251\u001b[0m, in \u001b[0;36mAtomicFunction.call_flat\u001b[1;34m(self, *args)\u001b[0m\n\u001b[0;32m    249\u001b[0m \u001b[38;5;28;01mwith\u001b[39;00m record\u001b[38;5;241m.\u001b[39mstop_recording():\n\u001b[0;32m    250\u001b[0m   \u001b[38;5;28;01mif\u001b[39;00m \u001b[38;5;28mself\u001b[39m\u001b[38;5;241m.\u001b[39m_bound_context\u001b[38;5;241m.\u001b[39mexecuting_eagerly():\n\u001b[1;32m--> 251\u001b[0m     outputs \u001b[38;5;241m=\u001b[39m \u001b[38;5;28mself\u001b[39m\u001b[38;5;241m.\u001b[39m_bound_context\u001b[38;5;241m.\u001b[39mcall_function(\n\u001b[0;32m    252\u001b[0m         \u001b[38;5;28mself\u001b[39m\u001b[38;5;241m.\u001b[39mname,\n\u001b[0;32m    253\u001b[0m         \u001b[38;5;28mlist\u001b[39m(args),\n\u001b[0;32m    254\u001b[0m         \u001b[38;5;28mlen\u001b[39m(\u001b[38;5;28mself\u001b[39m\u001b[38;5;241m.\u001b[39mfunction_type\u001b[38;5;241m.\u001b[39mflat_outputs),\n\u001b[0;32m    255\u001b[0m     )\n\u001b[0;32m    256\u001b[0m   \u001b[38;5;28;01melse\u001b[39;00m:\n\u001b[0;32m    257\u001b[0m     outputs \u001b[38;5;241m=\u001b[39m make_call_op_in_graph(\n\u001b[0;32m    258\u001b[0m         \u001b[38;5;28mself\u001b[39m,\n\u001b[0;32m    259\u001b[0m         \u001b[38;5;28mlist\u001b[39m(args),\n\u001b[0;32m    260\u001b[0m         \u001b[38;5;28mself\u001b[39m\u001b[38;5;241m.\u001b[39m_bound_context\u001b[38;5;241m.\u001b[39mfunction_call_options\u001b[38;5;241m.\u001b[39mas_attrs(),\n\u001b[0;32m    261\u001b[0m     )\n",
      "File \u001b[1;32md:\\Anaconda\\Lib\\site-packages\\tensorflow\\python\\eager\\context.py:1486\u001b[0m, in \u001b[0;36mContext.call_function\u001b[1;34m(self, name, tensor_inputs, num_outputs)\u001b[0m\n\u001b[0;32m   1484\u001b[0m cancellation_context \u001b[38;5;241m=\u001b[39m cancellation\u001b[38;5;241m.\u001b[39mcontext()\n\u001b[0;32m   1485\u001b[0m \u001b[38;5;28;01mif\u001b[39;00m cancellation_context \u001b[38;5;129;01mis\u001b[39;00m \u001b[38;5;28;01mNone\u001b[39;00m:\n\u001b[1;32m-> 1486\u001b[0m   outputs \u001b[38;5;241m=\u001b[39m execute\u001b[38;5;241m.\u001b[39mexecute(\n\u001b[0;32m   1487\u001b[0m       name\u001b[38;5;241m.\u001b[39mdecode(\u001b[38;5;124m\"\u001b[39m\u001b[38;5;124mutf-8\u001b[39m\u001b[38;5;124m\"\u001b[39m),\n\u001b[0;32m   1488\u001b[0m       num_outputs\u001b[38;5;241m=\u001b[39mnum_outputs,\n\u001b[0;32m   1489\u001b[0m       inputs\u001b[38;5;241m=\u001b[39mtensor_inputs,\n\u001b[0;32m   1490\u001b[0m       attrs\u001b[38;5;241m=\u001b[39mattrs,\n\u001b[0;32m   1491\u001b[0m       ctx\u001b[38;5;241m=\u001b[39m\u001b[38;5;28mself\u001b[39m,\n\u001b[0;32m   1492\u001b[0m   )\n\u001b[0;32m   1493\u001b[0m \u001b[38;5;28;01melse\u001b[39;00m:\n\u001b[0;32m   1494\u001b[0m   outputs \u001b[38;5;241m=\u001b[39m execute\u001b[38;5;241m.\u001b[39mexecute_with_cancellation(\n\u001b[0;32m   1495\u001b[0m       name\u001b[38;5;241m.\u001b[39mdecode(\u001b[38;5;124m\"\u001b[39m\u001b[38;5;124mutf-8\u001b[39m\u001b[38;5;124m\"\u001b[39m),\n\u001b[0;32m   1496\u001b[0m       num_outputs\u001b[38;5;241m=\u001b[39mnum_outputs,\n\u001b[1;32m   (...)\u001b[0m\n\u001b[0;32m   1500\u001b[0m       cancellation_manager\u001b[38;5;241m=\u001b[39mcancellation_context,\n\u001b[0;32m   1501\u001b[0m   )\n",
      "File \u001b[1;32md:\\Anaconda\\Lib\\site-packages\\tensorflow\\python\\eager\\execute.py:53\u001b[0m, in \u001b[0;36mquick_execute\u001b[1;34m(op_name, num_outputs, inputs, attrs, ctx, name)\u001b[0m\n\u001b[0;32m     51\u001b[0m \u001b[38;5;28;01mtry\u001b[39;00m:\n\u001b[0;32m     52\u001b[0m   ctx\u001b[38;5;241m.\u001b[39mensure_initialized()\n\u001b[1;32m---> 53\u001b[0m   tensors \u001b[38;5;241m=\u001b[39m pywrap_tfe\u001b[38;5;241m.\u001b[39mTFE_Py_Execute(ctx\u001b[38;5;241m.\u001b[39m_handle, device_name, op_name,\n\u001b[0;32m     54\u001b[0m                                       inputs, attrs, num_outputs)\n\u001b[0;32m     55\u001b[0m \u001b[38;5;28;01mexcept\u001b[39;00m core\u001b[38;5;241m.\u001b[39m_NotOkStatusException \u001b[38;5;28;01mas\u001b[39;00m e:\n\u001b[0;32m     56\u001b[0m   \u001b[38;5;28;01mif\u001b[39;00m name \u001b[38;5;129;01mis\u001b[39;00m \u001b[38;5;129;01mnot\u001b[39;00m \u001b[38;5;28;01mNone\u001b[39;00m:\n",
      "\u001b[1;31mKeyboardInterrupt\u001b[0m: "
     ]
    }
   ],
   "source": [
    "es = EarlyStopping(patience= 20, restore_best_weights=True, monitor=\"val_accuracy\")\n",
    "batch = 15\n",
    "STEPS = len(X_train) / batch\n",
    "history = model.fit(\n",
    "    X_train, y_train,\n",
    "    steps_per_epoch=STEPS,\n",
    "    batch_size = batch,\n",
    "    epochs = 50,\n",
    "    validation_data=(X_test, y_test),\n",
    "    callbacks=[es]\n",
    ")"
   ]
  },
  {
   "cell_type": "code",
   "execution_count": null,
   "id": "d1fa4078",
   "metadata": {},
   "outputs": [],
   "source": [
    "y_pred = model.predict(X_test)\n",
    "y_pred[:10]"
   ]
  },
  {
   "cell_type": "code",
   "execution_count": null,
   "id": "6e6ce8f4",
   "metadata": {},
   "outputs": [],
   "source": [
    "def plotmodelhistory(history): \n",
    "    \n",
    "    fig, axs = plt.subplots(1,2,figsize=(15,5)) \n",
    "    axs[0].plot(history.history['accuracy']) \n",
    "    axs[0].plot(history.history['val_accuracy']) \n",
    "    axs[0].set_title('Model Accuracy')\n",
    "    axs[0].set_ylabel('Accuracy') \n",
    "    axs[0].set_xlabel('Epoch')\n",
    "    axs[0].legend(['train', 'validate'], loc='upper left')\n",
    "    \n",
    "    axs[1].plot(history.history['loss']) \n",
    "    axs[1].plot(history.history['val_loss']) \n",
    "    axs[1].set_title('Model Loss')\n",
    "    axs[1].set_ylabel('Loss') \n",
    "    axs[1].set_xlabel('Epoch')\n",
    "    axs[1].legend(['train', 'validate'], loc='upper left')\n",
    "    \n",
    "    plt.show()\n",
    "\n",
    "print(history.history.keys())\n",
    "plotmodelhistory(history)"
   ]
  },
  {
   "cell_type": "code",
   "execution_count": null,
   "id": "fa755fb6",
   "metadata": {},
   "outputs": [],
   "source": [
    "ModelLoss, ModelAccuracy = model.evaluate(X_test, y_test)\n",
    "\n",
    "print('Model Loss is {}'.format(ModelLoss))\n",
    "print('Model Accuracy is {}'.format(ModelAccuracy))"
   ]
  },
  {
   "cell_type": "code",
   "execution_count": null,
   "id": "45ce9675",
   "metadata": {},
   "outputs": [],
   "source": [
    "from sklearn.metrics import confusion_matrix, ConfusionMatrixDisplay\n",
    "from sklearn.metrics import precision_score, \\\n",
    "    recall_score, confusion_matrix, classification_report, \\\n",
    "    accuracy_score, f1_score"
   ]
  },
  {
   "cell_type": "code",
   "execution_count": null,
   "id": "58d3395c",
   "metadata": {},
   "outputs": [],
   "source": [
    "y_pred_test = model.predict(X_test)\n",
    "y_pred_train = model.predict(X_train)"
   ]
  },
  {
   "cell_type": "code",
   "execution_count": null,
   "id": "11b8ccf8",
   "metadata": {},
   "outputs": [],
   "source": [
    "y_pred_test = encoder.inverse_transform(y_pred_test)\n",
    "y_pred_train = encoder.inverse_transform(y_pred_train)\n",
    "y_test_check = encoder.inverse_transform(y_test)\n",
    "y_train_check = encoder.inverse_transform(y_train)"
   ]
  },
  {
   "cell_type": "code",
   "execution_count": null,
   "id": "8bec68aa",
   "metadata": {},
   "outputs": [],
   "source": [
    "print ('\\n clasification report:\\n', classification_report(y_test_check, y_pred_test))\n",
    "\n",
    "print('Матрица несоответствий для тестовой выборки:\\n')\n",
    "fig, ax = plt.subplots(figsize=(5, 5))\n",
    "disp = ConfusionMatrixDisplay(confusion_matrix(y_test_check, y_pred_test))\n",
    "disp.plot(cmap = 'Blues', ax=ax);"
   ]
  },
  {
   "cell_type": "code",
   "execution_count": null,
   "id": "9dad673f",
   "metadata": {},
   "outputs": [],
   "source": [
    "print ('\\n clasification report:\\n', classification_report(y_train_check, y_pred_train))\n",
    "\n",
    "print('Матрица несоответствий для тренировочной выборки:\\n')\n",
    "fig, ax = plt.subplots(figsize=(5, 5))\n",
    "disp = ConfusionMatrixDisplay(confusion_matrix(y_train_check, y_pred_train))\n",
    "disp.plot(cmap = 'Blues', ax=ax); "
   ]
  },
  {
   "cell_type": "code",
   "execution_count": null,
   "id": "97c03559",
   "metadata": {},
   "outputs": [],
   "source": []
  }
 ],
 "metadata": {
  "kernelspec": {
   "display_name": "Python 3 (ipykernel)",
   "language": "python",
   "name": "python3"
  },
  "language_info": {
   "codemirror_mode": {
    "name": "ipython",
    "version": 3
   },
   "file_extension": ".py",
   "mimetype": "text/x-python",
   "name": "python",
   "nbconvert_exporter": "python",
   "pygments_lexer": "ipython3",
   "version": "3.11.5"
  }
 },
 "nbformat": 4,
 "nbformat_minor": 5
}
