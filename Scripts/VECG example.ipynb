{
 "cells": [
  {
   "cell_type": "code",
   "execution_count": 5,
   "metadata": {},
   "outputs": [
    {
     "name": "stdout",
     "output_type": "stream",
     "text": [
      "d:\\УЧЕБА\\Remote monitoring\\Scripts\\../Scripts\n"
     ]
    }
   ],
   "source": [
    "import sys\n",
    "import os\n",
    "\n",
    "cur_dir = os.getcwd()\n",
    "dataset_path = os.path.join(cur_dir, \"../Dataset\")\n",
    "script_path = os.path.join(cur_dir, \"../Scripts\")\n",
    "print(script_path)\n",
    "sys.path.append(dataset_path)\n",
    "sys.path.append(script_path)"
   ]
  },
  {
   "cell_type": "markdown",
   "metadata": {},
   "source": [
    "## Импортируем нужные скрипты\n"
   ]
  },
  {
   "cell_type": "code",
   "execution_count": 6,
   "metadata": {},
   "outputs": [],
   "source": [
    "from importlib import reload\n",
    "import ECGsignal as ecg\n",
    "\n",
    "reload(ecg)\n",
    "\n",
    "ecg.init()"
   ]
  },
  {
   "cell_type": "code",
   "execution_count": null,
   "metadata": {},
   "outputs": [],
   "source": [
    "test_ecg = ecg.signal(2)\n",
    "ecg.plot_signal(2)"
   ]
  },
  {
   "cell_type": "code",
   "execution_count": 66,
   "metadata": {},
   "outputs": [],
   "source": [
    "import VECG as vecg\n",
    "\n",
    "reload(vecg) #Это для отображения изменений в файле без прерывания ядра\n",
    "\n",
    "vecg.init(filtering=True, canc_showing=True, plot3D=False)"
   ]
  },
  {
   "cell_type": "code",
   "execution_count": 67,
   "metadata": {},
   "outputs": [
    {
     "data": {
      "text/html": [
       "<div>\n",
       "<style scoped>\n",
       "    .dataframe tbody tr th:only-of-type {\n",
       "        vertical-align: middle;\n",
       "    }\n",
       "\n",
       "    .dataframe tbody tr th {\n",
       "        vertical-align: top;\n",
       "    }\n",
       "\n",
       "    .dataframe thead th {\n",
       "        text-align: right;\n",
       "    }\n",
       "</style>\n",
       "<table border=\"1\" class=\"dataframe\">\n",
       "  <thead>\n",
       "    <tr style=\"text-align: right;\">\n",
       "      <th></th>\n",
       "      <th>x</th>\n",
       "      <th>y</th>\n",
       "      <th>z</th>\n",
       "      <th>size</th>\n",
       "    </tr>\n",
       "  </thead>\n",
       "  <tbody>\n",
       "    <tr>\n",
       "      <th>163</th>\n",
       "      <td>-1.267029</td>\n",
       "      <td>0.506926</td>\n",
       "      <td>-0.750032</td>\n",
       "      <td>346</td>\n",
       "    </tr>\n",
       "    <tr>\n",
       "      <th>164</th>\n",
       "      <td>-1.241024</td>\n",
       "      <td>0.583249</td>\n",
       "      <td>-0.901099</td>\n",
       "      <td>346</td>\n",
       "    </tr>\n",
       "    <tr>\n",
       "      <th>165</th>\n",
       "      <td>-1.104744</td>\n",
       "      <td>0.707489</td>\n",
       "      <td>-1.028472</td>\n",
       "      <td>346</td>\n",
       "    </tr>\n",
       "    <tr>\n",
       "      <th>166</th>\n",
       "      <td>-0.878513</td>\n",
       "      <td>0.796897</td>\n",
       "      <td>-1.167806</td>\n",
       "      <td>346</td>\n",
       "    </tr>\n",
       "    <tr>\n",
       "      <th>167</th>\n",
       "      <td>-0.649434</td>\n",
       "      <td>0.746466</td>\n",
       "      <td>-1.191621</td>\n",
       "      <td>346</td>\n",
       "    </tr>\n",
       "    <tr>\n",
       "      <th>...</th>\n",
       "      <td>...</td>\n",
       "      <td>...</td>\n",
       "      <td>...</td>\n",
       "      <td>...</td>\n",
       "    </tr>\n",
       "    <tr>\n",
       "      <th>505</th>\n",
       "      <td>-0.842656</td>\n",
       "      <td>0.360448</td>\n",
       "      <td>-0.140457</td>\n",
       "      <td>346</td>\n",
       "    </tr>\n",
       "    <tr>\n",
       "      <th>506</th>\n",
       "      <td>-0.970949</td>\n",
       "      <td>0.400301</td>\n",
       "      <td>-0.200650</td>\n",
       "      <td>346</td>\n",
       "    </tr>\n",
       "    <tr>\n",
       "      <th>507</th>\n",
       "      <td>-1.100174</td>\n",
       "      <td>0.456872</td>\n",
       "      <td>-0.315148</td>\n",
       "      <td>346</td>\n",
       "    </tr>\n",
       "    <tr>\n",
       "      <th>508</th>\n",
       "      <td>-1.185108</td>\n",
       "      <td>0.507292</td>\n",
       "      <td>-0.484303</td>\n",
       "      <td>346</td>\n",
       "    </tr>\n",
       "    <tr>\n",
       "      <th>509</th>\n",
       "      <td>-1.210589</td>\n",
       "      <td>0.536508</td>\n",
       "      <td>-0.664933</td>\n",
       "      <td>346</td>\n",
       "    </tr>\n",
       "  </tbody>\n",
       "</table>\n",
       "<p>347 rows × 4 columns</p>\n",
       "</div>"
      ],
      "text/plain": [
       "            x         y         z  size\n",
       "163 -1.267029  0.506926 -0.750032   346\n",
       "164 -1.241024  0.583249 -0.901099   346\n",
       "165 -1.104744  0.707489 -1.028472   346\n",
       "166 -0.878513  0.796897 -1.167806   346\n",
       "167 -0.649434  0.746466 -1.191621   346\n",
       "..        ...       ...       ...   ...\n",
       "505 -0.842656  0.360448 -0.140457   346\n",
       "506 -0.970949  0.400301 -0.200650   346\n",
       "507 -1.100174  0.456872 -0.315148   346\n",
       "508 -1.185108  0.507292 -0.484303   346\n",
       "509 -1.210589  0.536508 -0.664933   346\n",
       "\n",
       "[347 rows x 4 columns]"
      ]
     },
     "execution_count": 67,
     "metadata": {},
     "output_type": "execute_result"
    }
   ],
   "source": [
    "vecg.make_vecg(test_ecg, 0, 1)"
   ]
  }
 ],
 "metadata": {
  "kernelspec": {
   "display_name": "base",
   "language": "python",
   "name": "python3"
  },
  "language_info": {
   "codemirror_mode": {
    "name": "ipython",
    "version": 3
   },
   "file_extension": ".py",
   "mimetype": "text/x-python",
   "name": "python",
   "nbconvert_exporter": "python",
   "pygments_lexer": "ipython3",
   "version": "3.11.4"
  }
 },
 "nbformat": 4,
 "nbformat_minor": 2
}
