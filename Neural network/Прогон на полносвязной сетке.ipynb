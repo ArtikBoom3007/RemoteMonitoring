{
 "cells": [
  {
   "cell_type": "markdown",
   "id": "5fb7f57a",
   "metadata": {},
   "source": [
    "# Обучение полносвязной нейронной сети постановке диагноза на основе 12 отведений ЭКГ"
   ]
  },
  {
   "cell_type": "markdown",
   "id": "95ea0ed1",
   "metadata": {},
   "source": [
    "## Импортируем всё необходимое"
   ]
  },
  {
   "cell_type": "code",
   "execution_count": 1,
   "id": "4df74bdd",
   "metadata": {},
   "outputs": [
    {
     "name": "stdout",
     "output_type": "stream",
     "text": [
      "WARNING:tensorflow:From C:\\Users\\F2PC\\anaconda3\\Lib\\site-packages\\keras\\src\\losses.py:2976: The name tf.losses.sparse_softmax_cross_entropy is deprecated. Please use tf.compat.v1.losses.sparse_softmax_cross_entropy instead.\n",
      "\n"
     ]
    }
   ],
   "source": [
    "# Джентльменский набор\n",
    "import pandas as pd\n",
    "import numpy as np\n",
    "import os\n",
    "import random\n",
    "import matplotlib.pyplot as plt\n",
    "%matplotlib inline\n",
    "\n",
    "# Импортируем простую модель многослойного персептрона Sequential и тип слоя нейронной сети Dense\n",
    "from tensorflow.keras.models import Sequential\n",
    "from tensorflow.keras.layers import Dense, Dropout\n",
    "from tensorflow.keras.optimizers import Adam\n",
    "from sklearn.metrics import confusion_matrix, classification_report\n",
    "\n",
    "current_directory = os.getcwd() # Сохраняем путь к текущей директории"
   ]
  },
  {
   "cell_type": "markdown",
   "id": "73af9b19",
   "metadata": {},
   "source": [
    "## Загружаем файлы"
   ]
  },
  {
   "cell_type": "code",
   "execution_count": 2,
   "id": "984009da",
   "metadata": {},
   "outputs": [],
   "source": [
    "def load_func(filename_1, filename_2):\n",
    "    \"\"\"\n",
    "    Загружает данные с двух файлов.\n",
    "\n",
    "    Parameters:\n",
    "        filename_1 (str): Путь к npy файлу с записями ЭКГ.\n",
    "        filename_2 (str): Путь к csv файлу с данными для датасета.\n",
    "\n",
    "    Returns:\n",
    "        tuple: Тупль, содержащий X и Y.\n",
    "    \"\"\"\n",
    "    X = np.load(os.path.join(current_directory, filename_1))\n",
    "    Y = pd.read_csv(os.path.join(current_directory, filename_2), sep=';')\n",
    "    return X, Y\n",
    "\n",
    "\n",
    "X, Y = load_func('ecgeq-500hzsrfava.npy', 'coorteeqsrafva.csv')"
   ]
  },
  {
   "cell_type": "markdown",
   "id": "a211b390",
   "metadata": {},
   "source": [
    "## Подготавливаем данные"
   ]
  },
  {
   "cell_type": "code",
   "execution_count": 3,
   "id": "a016770c",
   "metadata": {},
   "outputs": [
    {
     "data": {
      "text/html": [
       "<div>\n",
       "<style scoped>\n",
       "    .dataframe tbody tr th:only-of-type {\n",
       "        vertical-align: middle;\n",
       "    }\n",
       "\n",
       "    .dataframe tbody tr th {\n",
       "        vertical-align: top;\n",
       "    }\n",
       "\n",
       "    .dataframe thead th {\n",
       "        text-align: right;\n",
       "    }\n",
       "</style>\n",
       "<table border=\"1\" class=\"dataframe\">\n",
       "  <thead>\n",
       "    <tr style=\"text-align: right;\">\n",
       "      <th></th>\n",
       "      <th>Unnamed: 0</th>\n",
       "      <th>diagnosi</th>\n",
       "      <th>ecg_id</th>\n",
       "      <th>ritmi</th>\n",
       "      <th>patient_id</th>\n",
       "      <th>age</th>\n",
       "      <th>sex</th>\n",
       "      <th>height</th>\n",
       "      <th>weight</th>\n",
       "      <th>nurse</th>\n",
       "      <th>...</th>\n",
       "      <th>validated_by_human</th>\n",
       "      <th>baseline_drift</th>\n",
       "      <th>static_noise</th>\n",
       "      <th>burst_noise</th>\n",
       "      <th>electrodes_problems</th>\n",
       "      <th>extra_beats</th>\n",
       "      <th>pacemaker</th>\n",
       "      <th>strat_fold</th>\n",
       "      <th>filename_lr</th>\n",
       "      <th>filename_hr</th>\n",
       "    </tr>\n",
       "  </thead>\n",
       "  <tbody>\n",
       "    <tr>\n",
       "      <th>0</th>\n",
       "      <td>0</td>\n",
       "      <td>STACH</td>\n",
       "      <td>10900</td>\n",
       "      <td>VA</td>\n",
       "      <td>15654.0</td>\n",
       "      <td>54.0</td>\n",
       "      <td>0</td>\n",
       "      <td>NaN</td>\n",
       "      <td>NaN</td>\n",
       "      <td>0.0</td>\n",
       "      <td>...</td>\n",
       "      <td>False</td>\n",
       "      <td>NaN</td>\n",
       "      <td>NaN</td>\n",
       "      <td>NaN</td>\n",
       "      <td>NaN</td>\n",
       "      <td>NaN</td>\n",
       "      <td>NaN</td>\n",
       "      <td>6</td>\n",
       "      <td>records100/10000/10900_lr</td>\n",
       "      <td>records500/10000/10900_hr</td>\n",
       "    </tr>\n",
       "    <tr>\n",
       "      <th>1</th>\n",
       "      <td>1</td>\n",
       "      <td>AFLT</td>\n",
       "      <td>10900</td>\n",
       "      <td>AF</td>\n",
       "      <td>15654.0</td>\n",
       "      <td>54.0</td>\n",
       "      <td>0</td>\n",
       "      <td>NaN</td>\n",
       "      <td>NaN</td>\n",
       "      <td>0.0</td>\n",
       "      <td>...</td>\n",
       "      <td>False</td>\n",
       "      <td>NaN</td>\n",
       "      <td>NaN</td>\n",
       "      <td>NaN</td>\n",
       "      <td>NaN</td>\n",
       "      <td>NaN</td>\n",
       "      <td>NaN</td>\n",
       "      <td>6</td>\n",
       "      <td>records100/10000/10900_lr</td>\n",
       "      <td>records500/10000/10900_hr</td>\n",
       "    </tr>\n",
       "    <tr>\n",
       "      <th>2</th>\n",
       "      <td>2</td>\n",
       "      <td>SR</td>\n",
       "      <td>8209</td>\n",
       "      <td>SR</td>\n",
       "      <td>12281.0</td>\n",
       "      <td>55.0</td>\n",
       "      <td>0</td>\n",
       "      <td>NaN</td>\n",
       "      <td>NaN</td>\n",
       "      <td>1.0</td>\n",
       "      <td>...</td>\n",
       "      <td>True</td>\n",
       "      <td>NaN</td>\n",
       "      <td>NaN</td>\n",
       "      <td>NaN</td>\n",
       "      <td>NaN</td>\n",
       "      <td>NaN</td>\n",
       "      <td>NaN</td>\n",
       "      <td>10</td>\n",
       "      <td>records100/08000/08209_lr</td>\n",
       "      <td>records500/08000/08209_hr</td>\n",
       "    </tr>\n",
       "    <tr>\n",
       "      <th>3</th>\n",
       "      <td>3</td>\n",
       "      <td>STACH</td>\n",
       "      <td>17620</td>\n",
       "      <td>VA</td>\n",
       "      <td>2007.0</td>\n",
       "      <td>29.0</td>\n",
       "      <td>1</td>\n",
       "      <td>164.0</td>\n",
       "      <td>56.0</td>\n",
       "      <td>7.0</td>\n",
       "      <td>...</td>\n",
       "      <td>True</td>\n",
       "      <td>NaN</td>\n",
       "      <td>NaN</td>\n",
       "      <td>NaN</td>\n",
       "      <td>NaN</td>\n",
       "      <td>NaN</td>\n",
       "      <td>NaN</td>\n",
       "      <td>1</td>\n",
       "      <td>records100/17000/17620_lr</td>\n",
       "      <td>records500/17000/17620_hr</td>\n",
       "    </tr>\n",
       "    <tr>\n",
       "      <th>4</th>\n",
       "      <td>4</td>\n",
       "      <td>SBRAD</td>\n",
       "      <td>12967</td>\n",
       "      <td>VA</td>\n",
       "      <td>8685.0</td>\n",
       "      <td>57.0</td>\n",
       "      <td>0</td>\n",
       "      <td>NaN</td>\n",
       "      <td>NaN</td>\n",
       "      <td>0.0</td>\n",
       "      <td>...</td>\n",
       "      <td>False</td>\n",
       "      <td>NaN</td>\n",
       "      <td>, I-AVR,</td>\n",
       "      <td>NaN</td>\n",
       "      <td>NaN</td>\n",
       "      <td>NaN</td>\n",
       "      <td>NaN</td>\n",
       "      <td>1</td>\n",
       "      <td>records100/12000/12967_lr</td>\n",
       "      <td>records500/12000/12967_hr</td>\n",
       "    </tr>\n",
       "    <tr>\n",
       "      <th>...</th>\n",
       "      <td>...</td>\n",
       "      <td>...</td>\n",
       "      <td>...</td>\n",
       "      <td>...</td>\n",
       "      <td>...</td>\n",
       "      <td>...</td>\n",
       "      <td>...</td>\n",
       "      <td>...</td>\n",
       "      <td>...</td>\n",
       "      <td>...</td>\n",
       "      <td>...</td>\n",
       "      <td>...</td>\n",
       "      <td>...</td>\n",
       "      <td>...</td>\n",
       "      <td>...</td>\n",
       "      <td>...</td>\n",
       "      <td>...</td>\n",
       "      <td>...</td>\n",
       "      <td>...</td>\n",
       "      <td>...</td>\n",
       "      <td>...</td>\n",
       "    </tr>\n",
       "    <tr>\n",
       "      <th>6423</th>\n",
       "      <td>6423</td>\n",
       "      <td>SARRH</td>\n",
       "      <td>4131</td>\n",
       "      <td>VA</td>\n",
       "      <td>3829.0</td>\n",
       "      <td>81.0</td>\n",
       "      <td>0</td>\n",
       "      <td>178.0</td>\n",
       "      <td>70.0</td>\n",
       "      <td>11.0</td>\n",
       "      <td>...</td>\n",
       "      <td>True</td>\n",
       "      <td>NaN</td>\n",
       "      <td>NaN</td>\n",
       "      <td>NaN</td>\n",
       "      <td>NaN</td>\n",
       "      <td>NaN</td>\n",
       "      <td>NaN</td>\n",
       "      <td>4</td>\n",
       "      <td>records100/04000/04131_lr</td>\n",
       "      <td>records500/04000/04131_hr</td>\n",
       "    </tr>\n",
       "    <tr>\n",
       "      <th>6424</th>\n",
       "      <td>6424</td>\n",
       "      <td>STACH</td>\n",
       "      <td>18644</td>\n",
       "      <td>VA</td>\n",
       "      <td>3866.0</td>\n",
       "      <td>88.0</td>\n",
       "      <td>0</td>\n",
       "      <td>152.0</td>\n",
       "      <td>45.0</td>\n",
       "      <td>11.0</td>\n",
       "      <td>...</td>\n",
       "      <td>True</td>\n",
       "      <td>v3,</td>\n",
       "      <td>NaN</td>\n",
       "      <td>NaN</td>\n",
       "      <td>NaN</td>\n",
       "      <td>2ES</td>\n",
       "      <td>NaN</td>\n",
       "      <td>10</td>\n",
       "      <td>records100/18000/18644_lr</td>\n",
       "      <td>records500/18000/18644_hr</td>\n",
       "    </tr>\n",
       "    <tr>\n",
       "      <th>6425</th>\n",
       "      <td>6425</td>\n",
       "      <td>SR</td>\n",
       "      <td>3693</td>\n",
       "      <td>SR</td>\n",
       "      <td>17345.0</td>\n",
       "      <td>83.0</td>\n",
       "      <td>1</td>\n",
       "      <td>NaN</td>\n",
       "      <td>NaN</td>\n",
       "      <td>1.0</td>\n",
       "      <td>...</td>\n",
       "      <td>True</td>\n",
       "      <td>NaN</td>\n",
       "      <td>, I-AVR,</td>\n",
       "      <td>NaN</td>\n",
       "      <td>NaN</td>\n",
       "      <td>NaN</td>\n",
       "      <td>NaN</td>\n",
       "      <td>5</td>\n",
       "      <td>records100/03000/03693_lr</td>\n",
       "      <td>records500/03000/03693_hr</td>\n",
       "    </tr>\n",
       "    <tr>\n",
       "      <th>6426</th>\n",
       "      <td>6426</td>\n",
       "      <td>AFIB</td>\n",
       "      <td>1039</td>\n",
       "      <td>AF</td>\n",
       "      <td>6038.0</td>\n",
       "      <td>75.0</td>\n",
       "      <td>1</td>\n",
       "      <td>177.0</td>\n",
       "      <td>80.0</td>\n",
       "      <td>NaN</td>\n",
       "      <td>...</td>\n",
       "      <td>True</td>\n",
       "      <td>NaN</td>\n",
       "      <td>NaN</td>\n",
       "      <td>NaN</td>\n",
       "      <td>NaN</td>\n",
       "      <td>2ES</td>\n",
       "      <td>NaN</td>\n",
       "      <td>7</td>\n",
       "      <td>records100/01000/01039_lr</td>\n",
       "      <td>records500/01000/01039_hr</td>\n",
       "    </tr>\n",
       "    <tr>\n",
       "      <th>6427</th>\n",
       "      <td>6427</td>\n",
       "      <td>SR</td>\n",
       "      <td>15097</td>\n",
       "      <td>SR</td>\n",
       "      <td>14746.0</td>\n",
       "      <td>27.0</td>\n",
       "      <td>0</td>\n",
       "      <td>NaN</td>\n",
       "      <td>NaN</td>\n",
       "      <td>1.0</td>\n",
       "      <td>...</td>\n",
       "      <td>True</td>\n",
       "      <td>NaN</td>\n",
       "      <td>NaN</td>\n",
       "      <td>NaN</td>\n",
       "      <td>NaN</td>\n",
       "      <td>NaN</td>\n",
       "      <td>NaN</td>\n",
       "      <td>8</td>\n",
       "      <td>records100/15000/15097_lr</td>\n",
       "      <td>records500/15000/15097_hr</td>\n",
       "    </tr>\n",
       "  </tbody>\n",
       "</table>\n",
       "<p>6428 rows × 31 columns</p>\n",
       "</div>"
      ],
      "text/plain": [
       "      Unnamed: 0 diagnosi  ecg_id ritmi  patient_id   age  sex  height  \\\n",
       "0              0    STACH   10900    VA     15654.0  54.0    0     NaN   \n",
       "1              1     AFLT   10900    AF     15654.0  54.0    0     NaN   \n",
       "2              2       SR    8209    SR     12281.0  55.0    0     NaN   \n",
       "3              3    STACH   17620    VA      2007.0  29.0    1   164.0   \n",
       "4              4    SBRAD   12967    VA      8685.0  57.0    0     NaN   \n",
       "...          ...      ...     ...   ...         ...   ...  ...     ...   \n",
       "6423        6423    SARRH    4131    VA      3829.0  81.0    0   178.0   \n",
       "6424        6424    STACH   18644    VA      3866.0  88.0    0   152.0   \n",
       "6425        6425       SR    3693    SR     17345.0  83.0    1     NaN   \n",
       "6426        6426     AFIB    1039    AF      6038.0  75.0    1   177.0   \n",
       "6427        6427       SR   15097    SR     14746.0  27.0    0     NaN   \n",
       "\n",
       "      weight  nurse  ...  validated_by_human baseline_drift static_noise  \\\n",
       "0        NaN    0.0  ...               False            NaN          NaN   \n",
       "1        NaN    0.0  ...               False            NaN          NaN   \n",
       "2        NaN    1.0  ...                True            NaN          NaN   \n",
       "3       56.0    7.0  ...                True            NaN          NaN   \n",
       "4        NaN    0.0  ...               False            NaN   , I-AVR,     \n",
       "...      ...    ...  ...                 ...            ...          ...   \n",
       "6423    70.0   11.0  ...                True            NaN          NaN   \n",
       "6424    45.0   11.0  ...                True          v3,            NaN   \n",
       "6425     NaN    1.0  ...                True            NaN   , I-AVR,     \n",
       "6426    80.0    NaN  ...                True            NaN          NaN   \n",
       "6427     NaN    1.0  ...                True            NaN          NaN   \n",
       "\n",
       "     burst_noise electrodes_problems extra_beats pacemaker strat_fold  \\\n",
       "0            NaN                 NaN         NaN       NaN          6   \n",
       "1            NaN                 NaN         NaN       NaN          6   \n",
       "2            NaN                 NaN         NaN       NaN         10   \n",
       "3            NaN                 NaN         NaN       NaN          1   \n",
       "4            NaN                 NaN         NaN       NaN          1   \n",
       "...          ...                 ...         ...       ...        ...   \n",
       "6423         NaN                 NaN         NaN       NaN          4   \n",
       "6424         NaN                 NaN         2ES       NaN         10   \n",
       "6425         NaN                 NaN         NaN       NaN          5   \n",
       "6426         NaN                 NaN         2ES       NaN          7   \n",
       "6427         NaN                 NaN         NaN       NaN          8   \n",
       "\n",
       "                    filename_lr                filename_hr  \n",
       "0     records100/10000/10900_lr  records500/10000/10900_hr  \n",
       "1     records100/10000/10900_lr  records500/10000/10900_hr  \n",
       "2     records100/08000/08209_lr  records500/08000/08209_hr  \n",
       "3     records100/17000/17620_lr  records500/17000/17620_hr  \n",
       "4     records100/12000/12967_lr  records500/12000/12967_hr  \n",
       "...                         ...                        ...  \n",
       "6423  records100/04000/04131_lr  records500/04000/04131_hr  \n",
       "6424  records100/18000/18644_lr  records500/18000/18644_hr  \n",
       "6425  records100/03000/03693_lr  records500/03000/03693_hr  \n",
       "6426  records100/01000/01039_lr  records500/01000/01039_hr  \n",
       "6427  records100/15000/15097_lr  records500/15000/15097_hr  \n",
       "\n",
       "[6428 rows x 31 columns]"
      ]
     },
     "metadata": {},
     "output_type": "display_data"
    }
   ],
   "source": [
    "display(Y)"
   ]
  },
  {
   "cell_type": "code",
   "execution_count": 134,
   "id": "028fee24",
   "metadata": {},
   "outputs": [],
   "source": [
    "normalCase = np.array(random.choices(list(Y[Y['ritmi']=='SR'].index), k=510))\n",
    "data_1 = pd.DataFrame({'index': normalCase, 'class': np.array(list(range(510)))*0})\n",
    "aritmiaCase = np.array(random.choices(list(Y[Y['ritmi']=='VA'].index), k=510))\n",
    "data_2 = pd.DataFrame({'index': aritmiaCase, 'class': np.array(list(range(510)))*0+1})\n",
    "fibrilationCase = np.array(random.choices(list(Y[Y['ritmi']=='AF'].index), k=510))\n",
    "data_3 = pd.DataFrame({'index': fibrilationCase, 'class': np.array(list(range(510)))*0+2})\n",
    "\n",
    "data = np.array(pd.merge(left = pd.merge(left = data_1, right = data_2, how = 'outer'),\n",
    "                 right = data_3, how = 'outer').sample(frac = 1).reset_index(drop=True))"
   ]
  },
  {
   "cell_type": "markdown",
   "id": "72888450",
   "metadata": {},
   "source": [
    "### Нормировка данных"
   ]
  },
  {
   "cell_type": "code",
   "execution_count": 135,
   "id": "e0481faf",
   "metadata": {},
   "outputs": [],
   "source": [
    "# Нормируем значения входных данных\n",
    "def norm(x):\n",
    "    for i in range(x.shape[2]):\n",
    "        min_x = x[:,:,i].min() # Вычисляем минимальное значение x\n",
    "        max_x = x[:,:,i].max() - min_x # \"Опустим\" максимум на min_x\n",
    "        \n",
    "        x[:,:,i] = (x[:,:,i]- min_x) / max_x\n",
    "        x[:,:,i] = x[:,:,i] * 0.99 + 0.01\n",
    "    return x\n",
    "\n",
    "def target(y):\n",
    "    y_target = []\n",
    "    for i in range(y.shape[0]):\n",
    "        target = np.zeros(3) + 0.01\n",
    "        target[y[i]] = 0.99\n",
    "        y_target.append(target)\n",
    "    return np.array(y_target)\n",
    "\n",
    "x_data = norm(X[data[:,0],:2500,:])\n",
    "y_data = target(data[:,1])"
   ]
  },
  {
   "cell_type": "markdown",
   "id": "558f3531",
   "metadata": {},
   "source": [
    "### Распределяем на тренировочную и тестовую выборку"
   ]
  },
  {
   "cell_type": "code",
   "execution_count": 136,
   "id": "c8104d5d",
   "metadata": {},
   "outputs": [],
   "source": [
    "x_train, x_test = (x_data[:1500,:,:], x_data[1500:1530,:,:])\n",
    "x_train = np.array([x_train[i,:,:].T.flatten() for i in range(x_train.shape[0])])\n",
    "x_test = np.array([x_test[i,:,:].T.flatten() for i in range(x_test.shape[0])])\n",
    "\n",
    "y_train, y_test = (y_data[:1500], y_data[1500:1530])"
   ]
  },
  {
   "cell_type": "code",
   "execution_count": 137,
   "id": "bd7149de",
   "metadata": {},
   "outputs": [
    {
     "data": {
      "text/plain": [
       "(1500, 30000)"
      ]
     },
     "execution_count": 137,
     "metadata": {},
     "output_type": "execute_result"
    }
   ],
   "source": [
    "x_train.shape"
   ]
  },
  {
   "cell_type": "code",
   "execution_count": 138,
   "id": "7e59f007",
   "metadata": {},
   "outputs": [
    {
     "data": {
      "text/plain": [
       "(1500, 3)"
      ]
     },
     "execution_count": 138,
     "metadata": {},
     "output_type": "execute_result"
    }
   ],
   "source": [
    "y_train.shape"
   ]
  },
  {
   "cell_type": "code",
   "execution_count": 139,
   "id": "f9da2aa7",
   "metadata": {},
   "outputs": [
    {
     "data": {
      "image/png": "[encoded data removed]",
      "text/plain": [
       "<Figure size 640x480 with 1 Axes>"
      ]
     },
     "metadata": {},
     "output_type": "display_data"
    }
   ],
   "source": [
    "plt.plot(x_train[0,:2500]);"
   ]
  },
  {
   "cell_type": "code",
   "execution_count": 140,
   "id": "53a00aa0",
   "metadata": {},
   "outputs": [
    {
     "data": {
      "image/png": "[encoded data removed]",
      "text/plain": [
       "<Figure size 640x480 with 1 Axes>"
      ]
     },
     "metadata": {},
     "output_type": "display_data"
    }
   ],
   "source": [
    "f = np.fft.fft(x_train[0])\n",
    "fshift = np.fft.fftshift(f)\n",
    "xf = list(map(lambda x: x - round(len(fshift)/2), list(range(len(fshift)))))\n",
    "plt.plot(xf, np.abs(fshift))\n",
    "plt.xlabel('Частота')\n",
    "plt.ylabel('Амплитуда');"
   ]
  },
  {
   "cell_type": "code",
   "execution_count": 141,
   "id": "0835d9c0",
   "metadata": {},
   "outputs": [
    {
     "data": {
      "image/png": "[encoded data removed]",
      "text/plain": [
       "<Figure size 640x480 with 1 Axes>"
      ]
     },
     "metadata": {},
     "output_type": "display_data"
    }
   ],
   "source": [
    "fshift_new = fshift.copy()\n",
    "fshift_new[:round(len(fshift)/2)-600] = 0\n",
    "fshift_new[round(len(fshift)/2)+600:] = 0\n",
    "f_new_ishift = np.fft.ifftshift(fshift_new)\n",
    "x_back = np.real(np.fft.ifft(f_new_ishift))\n",
    "\n",
    "plt.plot(x_back[:2500]);"
   ]
  },
  {
   "cell_type": "code",
   "execution_count": 142,
   "id": "18c0aca7",
   "metadata": {},
   "outputs": [],
   "source": [
    "for i in range(x_train.shape[0]):\n",
    "    f = np.fft.fft(x_train[i])\n",
    "    fshift = np.fft.fftshift(f)\n",
    "    fshift_new = fshift.copy()\n",
    "    fshift_new[:round(len(fshift)/2)-600] = 0\n",
    "    fshift_new[round(len(fshift)/2)+600:] = 0\n",
    "    f_new_ishift = np.fft.ifftshift(fshift_new)\n",
    "    x_train[i] = np.real(np.fft.ifft(f_new_ishift))\n",
    "    \n",
    "for i in range(x_test.shape[0]):\n",
    "    f = np.fft.fft(x_train[i])\n",
    "    fshift = np.fft.fftshift(f)\n",
    "    fshift_new = fshift.copy()\n",
    "    fshift_new[:round(len(fshift)/2)-600] = 0\n",
    "    fshift_new[round(len(fshift)/2)+600:] = 0\n",
    "    f_new_ishift = np.fft.ifftshift(fshift_new)\n",
    "    x_test[i] = np.real(np.fft.ifft(f_new_ishift))"
   ]
  },
  {
   "cell_type": "markdown",
   "id": "844a3374",
   "metadata": {},
   "source": [
    "## Создаём модель"
   ]
  },
  {
   "cell_type": "code",
   "execution_count": 143,
   "id": "d1f71a3d",
   "metadata": {},
   "outputs": [
    {
     "name": "stdout",
     "output_type": "stream",
     "text": [
      "Model: \"sequential_13\"\n",
      "_________________________________________________________________\n",
      " Layer (type)                Output Shape              Param #   \n",
      "=================================================================\n",
      " dense_46 (Dense)            (None, 1000)              30001000  \n",
      "                                                                 \n",
      " dropout_33 (Dropout)        (None, 1000)              0         \n",
      "                                                                 \n",
      " dense_47 (Dense)            (None, 500)               500500    \n",
      "                                                                 \n",
      " dropout_34 (Dropout)        (None, 500)               0         \n",
      "                                                                 \n",
      " dense_48 (Dense)            (None, 200)               100200    \n",
      "                                                                 \n",
      " dropout_35 (Dropout)        (None, 200)               0         \n",
      "                                                                 \n",
      " dense_49 (Dense)            (None, 3)                 603       \n",
      "                                                                 \n",
      "=================================================================\n",
      "Total params: 30602303 (116.74 MB)\n",
      "Trainable params: 30602303 (116.74 MB)\n",
      "Non-trainable params: 0 (0.00 Byte)\n",
      "_________________________________________________________________\n",
      "None\n"
     ]
    }
   ],
   "source": [
    "model = Sequential() # Делаем переменную model объектом класса Sequential (объект класса нейронных сетей)\n",
    "\n",
    "# Добавляем к нашей модели слои с заданными размерами, функциями активаций\n",
    "model.add(Dense(1000, activation='relu', input_shape=(x_train.shape[1],)))\n",
    "model.add(Dropout(0.5))\n",
    "model.add(Dense(500, activation='relu'))\n",
    "model.add(Dropout(0.25))\n",
    "model.add(Dense(200, activation='sigmoid'))\n",
    "model.add(Dropout(0.25))\n",
    "model.add(Dense(y_train.shape[1], activation='sigmoid')) # sigmoid, т.к. данные мы отнормировали выходные данные от 0 до 1\n",
    "\n",
    "print(model.summary()) # Выводим архитектуру нашей модели"
   ]
  },
  {
   "cell_type": "code",
   "execution_count": 144,
   "id": "a9d98e30",
   "metadata": {},
   "outputs": [],
   "source": [
    "model.compile(optimizer=Adam(learning_rate = 0.01),\n",
    "              loss='mse',\n",
    "              metrics=['accuracy'])"
   ]
  },
  {
   "cell_type": "code",
   "execution_count": 145,
   "id": "7751adb3",
   "metadata": {},
   "outputs": [
    {
     "name": "stdout",
     "output_type": "stream",
     "text": [
      "Epoch 1/5\n",
      "47/47 [==============================] - 8s 155ms/step - loss: 0.2711 - accuracy: 0.3393\n",
      "Epoch 2/5\n",
      "47/47 [==============================] - 7s 158ms/step - loss: 0.2583 - accuracy: 0.3367\n",
      "Epoch 3/5\n",
      "47/47 [==============================] - 7s 157ms/step - loss: 0.2602 - accuracy: 0.3340\n",
      "Epoch 4/5\n",
      "47/47 [==============================] - 7s 158ms/step - loss: 0.2589 - accuracy: 0.3407\n",
      "Epoch 5/5\n",
      "47/47 [==============================] - 7s 160ms/step - loss: 0.2581 - accuracy: 0.3353\n"
     ]
    }
   ],
   "source": [
    "history = model.fit(x_train, y_train, epochs=5)"
   ]
  },
  {
   "cell_type": "code",
   "execution_count": 146,
   "id": "4a2fd05e",
   "metadata": {},
   "outputs": [
    {
     "name": "stdout",
     "output_type": "stream",
     "text": [
      "1/1 [==============================] - 0s 62ms/step\n"
     ]
    }
   ],
   "source": [
    "y_pred = model.predict(x_test)"
   ]
  },
  {
   "cell_type": "code",
   "execution_count": 147,
   "id": "abb1f9b0",
   "metadata": {},
   "outputs": [
    {
     "data": {
      "text/plain": [
       "array([[2.4745370e-01, 5.9452399e-05, 3.4343567e-01],\n",
       "       [2.4745370e-01, 5.9452399e-05, 3.4343567e-01],\n",
       "       [2.4745370e-01, 5.9452399e-05, 3.4343567e-01],\n",
       "       [2.4745370e-01, 5.9452399e-05, 3.4343567e-01],\n",
       "       [2.4745370e-01, 5.9452399e-05, 3.4343567e-01],\n",
       "       [2.4745370e-01, 5.9452399e-05, 3.4343567e-01],\n",
       "       [2.4745370e-01, 5.9452399e-05, 3.4343567e-01],\n",
       "       [2.4745370e-01, 5.9452399e-05, 3.4343567e-01],\n",
       "       [2.4745370e-01, 5.9452399e-05, 3.4343567e-01],\n",
       "       [2.4745370e-01, 5.9452399e-05, 3.4343567e-01],\n",
       "       [2.4745370e-01, 5.9452399e-05, 3.4343567e-01],\n",
       "       [2.4745370e-01, 5.9452399e-05, 3.4343567e-01],\n",
       "       [2.4745370e-01, 5.9452399e-05, 3.4343567e-01],\n",
       "       [2.4745370e-01, 5.9452399e-05, 3.4343567e-01],\n",
       "       [2.4745370e-01, 5.9452399e-05, 3.4343567e-01],\n",
       "       [2.4745370e-01, 5.9452399e-05, 3.4343567e-01],\n",
       "       [2.4745370e-01, 5.9452399e-05, 3.4343567e-01],\n",
       "       [2.4745370e-01, 5.9452399e-05, 3.4343567e-01],\n",
       "       [2.4745370e-01, 5.9452399e-05, 3.4343567e-01],\n",
       "       [2.4745370e-01, 5.9452399e-05, 3.4343567e-01],\n",
       "       [2.4745370e-01, 5.9452399e-05, 3.4343567e-01],\n",
       "       [2.4745370e-01, 5.9452399e-05, 3.4343567e-01],\n",
       "       [2.4745370e-01, 5.9452399e-05, 3.4343567e-01],\n",
       "       [2.4745370e-01, 5.9452399e-05, 3.4343567e-01],\n",
       "       [2.4745370e-01, 5.9452399e-05, 3.4343567e-01],\n",
       "       [2.4745370e-01, 5.9452399e-05, 3.4343567e-01],\n",
       "       [2.4745370e-01, 5.9452399e-05, 3.4343567e-01],\n",
       "       [2.4745370e-01, 5.9452399e-05, 3.4343567e-01],\n",
       "       [2.4745370e-01, 5.9452399e-05, 3.4343567e-01],\n",
       "       [2.4745370e-01, 5.9452395e-05, 3.4343570e-01]], dtype=float32)"
      ]
     },
     "execution_count": 147,
     "metadata": {},
     "output_type": "execute_result"
    }
   ],
   "source": [
    "y_pred"
   ]
  },
  {
   "cell_type": "code",
   "execution_count": 148,
   "id": "3bb8f40e",
   "metadata": {},
   "outputs": [
    {
     "data": {
      "text/plain": [
       "array([[0.01, 0.99, 0.01],\n",
       "       [0.99, 0.01, 0.01],\n",
       "       [0.99, 0.01, 0.01],\n",
       "       [0.01, 0.01, 0.99],\n",
       "       [0.01, 0.01, 0.99],\n",
       "       [0.01, 0.99, 0.01],\n",
       "       [0.01, 0.01, 0.99],\n",
       "       [0.01, 0.99, 0.01],\n",
       "       [0.01, 0.01, 0.99],\n",
       "       [0.01, 0.99, 0.01],\n",
       "       [0.01, 0.99, 0.01],\n",
       "       [0.99, 0.01, 0.01],\n",
       "       [0.99, 0.01, 0.01],\n",
       "       [0.01, 0.01, 0.99],\n",
       "       [0.01, 0.99, 0.01],\n",
       "       [0.01, 0.99, 0.01],\n",
       "       [0.99, 0.01, 0.01],\n",
       "       [0.01, 0.99, 0.01],\n",
       "       [0.01, 0.99, 0.01],\n",
       "       [0.99, 0.01, 0.01],\n",
       "       [0.01, 0.01, 0.99],\n",
       "       [0.99, 0.01, 0.01],\n",
       "       [0.01, 0.01, 0.99],\n",
       "       [0.01, 0.01, 0.99],\n",
       "       [0.01, 0.99, 0.01],\n",
       "       [0.01, 0.01, 0.99],\n",
       "       [0.01, 0.99, 0.01],\n",
       "       [0.01, 0.99, 0.01],\n",
       "       [0.99, 0.01, 0.01],\n",
       "       [0.99, 0.01, 0.01]])"
      ]
     },
     "execution_count": 148,
     "metadata": {},
     "output_type": "execute_result"
    }
   ],
   "source": [
    "y_test"
   ]
  },
  {
   "cell_type": "code",
   "execution_count": null,
   "id": "787b613b",
   "metadata": {},
   "outputs": [],
   "source": []
  }
 ],
 "metadata": {
  "kernelspec": {
   "display_name": "Python 3 (ipykernel)",
   "language": "python",
   "name": "python3"
  },
  "language_info": {
   "codemirror_mode": {
    "name": "ipython",
    "version": 3
   },
   "file_extension": ".py",
   "mimetype": "text/x-python",
   "name": "python",
   "nbconvert_exporter": "python",
   "pygments_lexer": "ipython3",
   "version": "3.11.4"
  }
 },
 "nbformat": 4,
 "nbformat_minor": 5
}
