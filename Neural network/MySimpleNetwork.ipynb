{
 "cells": [
  {
   "cell_type": "markdown",
   "metadata": {},
   "source": [
    "## Это наш лицевой файл, к которому будем подключать свои скрипты. Тут будут основные визуальные выводы. Логика вычислений и обработки будет вынесена в отдельные файлы .py\n"
   ]
  },
  {
   "cell_type": "code",
   "execution_count": 1,
   "metadata": {},
   "outputs": [
    {
     "name": "stdout",
     "output_type": "stream",
     "text": [
      "d:\\УЧЕБА\\Remote monitoring\\MyNN\\../Wavelet\n"
     ]
    }
   ],
   "source": [
    "import sys\n",
    "import os\n",
    "\n",
    "cur_dir = os.getcwd()\n",
    "dataset_path = os.path.join(cur_dir, \"../Dataset\")\n",
    "script_path = os.path.join(cur_dir, \"../Scripts\")\n",
    "wavelets_path = os.path.join(cur_dir, \"../Wavelet\")\n",
    "print(wavelets_path)\n",
    "sys.path.append(dataset_path)\n",
    "sys.path.append(script_path)\n",
    "sys.path.append(wavelets_path)"
   ]
  },
  {
   "cell_type": "code",
   "execution_count": 2,
   "metadata": {},
   "outputs": [
    {
     "name": "stdout",
     "output_type": "stream",
     "text": [
      "WARNING:tensorflow:From d:\\anaconda3\\Lib\\site-packages\\keras\\src\\losses.py:2976: The name tf.losses.sparse_softmax_cross_entropy is deprecated. Please use tf.compat.v1.losses.sparse_softmax_cross_entropy instead.\n",
      "\n"
     ]
    }
   ],
   "source": [
    "import tensorflow as tf\n",
    "from tensorflow.keras import layers, models\n",
    "from tensorflow.keras.utils import to_categorical\n",
    "from keras.optimizers import SGD"
   ]
  },
  {
   "cell_type": "code",
   "execution_count": 3,
   "metadata": {},
   "outputs": [],
   "source": [
    "from importlib import reload\n",
    "from sklearn.model_selection import train_test_split\n",
    "import numpy as np"
   ]
  },
  {
   "cell_type": "code",
   "execution_count": 4,
   "metadata": {},
   "outputs": [
    {
     "name": "stderr",
     "output_type": "stream",
     "text": [
      "d:\\anaconda3\\Lib\\site-packages\\paramiko\\transport.py:219: CryptographyDeprecationWarning: Blowfish has been deprecated\n",
      "  \"class\": algorithms.Blowfish,\n"
     ]
    }
   ],
   "source": [
    "import ECGsignal as ecg\n",
    "\n",
    "reload(ecg)\n",
    "\n",
    "ecg.init()"
   ]
  },
  {
   "cell_type": "code",
   "execution_count": 5,
   "metadata": {},
   "outputs": [],
   "source": [
    "import CWT as wt"
   ]
  },
  {
   "cell_type": "code",
   "execution_count": 6,
   "metadata": {},
   "outputs": [],
   "source": [
    "reload(wt)\n",
    "wt.init()"
   ]
  },
  {
   "cell_type": "code",
   "execution_count": 7,
   "metadata": {},
   "outputs": [
    {
     "data": {
      "text/html": [
       "<div>\n",
       "<style scoped>\n",
       "    .dataframe tbody tr th:only-of-type {\n",
       "        vertical-align: middle;\n",
       "    }\n",
       "\n",
       "    .dataframe tbody tr th {\n",
       "        vertical-align: top;\n",
       "    }\n",
       "\n",
       "    .dataframe thead th {\n",
       "        text-align: right;\n",
       "    }\n",
       "</style>\n",
       "<table border=\"1\" class=\"dataframe\">\n",
       "  <thead>\n",
       "    <tr style=\"text-align: right;\">\n",
       "      <th></th>\n",
       "      <th>data</th>\n",
       "      <th>label</th>\n",
       "      <th>CWT</th>\n",
       "    </tr>\n",
       "  </thead>\n",
       "  <tbody>\n",
       "    <tr>\n",
       "      <th>0</th>\n",
       "      <td>[[-0.025, -0.025, -0.025, -0.025, -0.025, -0.0...</td>\n",
       "      <td>VA</td>\n",
       "      <td>[[[(1.781578525410848+0.0465330249603444j), (0...</td>\n",
       "    </tr>\n",
       "    <tr>\n",
       "      <th>1</th>\n",
       "      <td>[[-0.015, -0.015, -0.015, -0.015, -0.015, -0.0...</td>\n",
       "      <td>VA</td>\n",
       "      <td>[[[(2.0676746397196286+0.03439586579231204j), ...</td>\n",
       "    </tr>\n",
       "    <tr>\n",
       "      <th>2</th>\n",
       "      <td>[[-0.12, -0.12, -0.12, -0.12, -0.12, -0.12, -0...</td>\n",
       "      <td>VA</td>\n",
       "      <td>[[[(0.41941757943509067-0.03390905844045573j),...</td>\n",
       "    </tr>\n",
       "    <tr>\n",
       "      <th>3</th>\n",
       "      <td>[[0.04, 0.04, 0.04, 0.04, 0.04, 0.04, 0.044, 0...</td>\n",
       "      <td>VA</td>\n",
       "      <td>[[[(1.8262632061848432-0.008308847430309628j),...</td>\n",
       "    </tr>\n",
       "    <tr>\n",
       "      <th>4</th>\n",
       "      <td>[[-0.055, -0.055, -0.055, -0.055, -0.055, -0.0...</td>\n",
       "      <td>VA</td>\n",
       "      <td>[[[(3.2670964605441224+0.251179389306744j), (1...</td>\n",
       "    </tr>\n",
       "    <tr>\n",
       "      <th>...</th>\n",
       "      <td>...</td>\n",
       "      <td>...</td>\n",
       "      <td>...</td>\n",
       "    </tr>\n",
       "    <tr>\n",
       "      <th>895</th>\n",
       "      <td>[[-0.14, -0.14, -0.14, -0.14, -0.14, -0.14, -0...</td>\n",
       "      <td>SR</td>\n",
       "      <td>[[[(2.186536399726562+0.3448740159861551j), (0...</td>\n",
       "    </tr>\n",
       "    <tr>\n",
       "      <th>896</th>\n",
       "      <td>[[-0.32, -0.32, -0.32, -0.321, -0.319, -0.32, ...</td>\n",
       "      <td>SR</td>\n",
       "      <td>[[[(-0.6970831469901372-0.06308556922682065j),...</td>\n",
       "    </tr>\n",
       "    <tr>\n",
       "      <th>897</th>\n",
       "      <td>[[-0.02, -0.02, -0.02, -0.02, -0.02, -0.02, -0...</td>\n",
       "      <td>SR</td>\n",
       "      <td>[[[(3.3794469689340634+0.3628565755703701j), (...</td>\n",
       "    </tr>\n",
       "    <tr>\n",
       "      <th>898</th>\n",
       "      <td>[[-0.1, -0.1, -0.1, -0.1, -0.099, -0.1, -0.117...</td>\n",
       "      <td>SR</td>\n",
       "      <td>[[[(2.151739366604096-0.13887586731907928j), (...</td>\n",
       "    </tr>\n",
       "    <tr>\n",
       "      <th>899</th>\n",
       "      <td>[[-0.11, -0.11, -0.11, -0.11, -0.11, -0.11, -0...</td>\n",
       "      <td>SR</td>\n",
       "      <td>[[[(0.7439237727203086+0.05259284880001554j), ...</td>\n",
       "    </tr>\n",
       "  </tbody>\n",
       "</table>\n",
       "<p>900 rows × 3 columns</p>\n",
       "</div>"
      ],
      "text/plain": [
       "                                                  data label  \\\n",
       "0    [[-0.025, -0.025, -0.025, -0.025, -0.025, -0.0...    VA   \n",
       "1    [[-0.015, -0.015, -0.015, -0.015, -0.015, -0.0...    VA   \n",
       "2    [[-0.12, -0.12, -0.12, -0.12, -0.12, -0.12, -0...    VA   \n",
       "3    [[0.04, 0.04, 0.04, 0.04, 0.04, 0.04, 0.044, 0...    VA   \n",
       "4    [[-0.055, -0.055, -0.055, -0.055, -0.055, -0.0...    VA   \n",
       "..                                                 ...   ...   \n",
       "895  [[-0.14, -0.14, -0.14, -0.14, -0.14, -0.14, -0...    SR   \n",
       "896  [[-0.32, -0.32, -0.32, -0.321, -0.319, -0.32, ...    SR   \n",
       "897  [[-0.02, -0.02, -0.02, -0.02, -0.02, -0.02, -0...    SR   \n",
       "898  [[-0.1, -0.1, -0.1, -0.1, -0.099, -0.1, -0.117...    SR   \n",
       "899  [[-0.11, -0.11, -0.11, -0.11, -0.11, -0.11, -0...    SR   \n",
       "\n",
       "                                                   CWT  \n",
       "0    [[[(1.781578525410848+0.0465330249603444j), (0...  \n",
       "1    [[[(2.0676746397196286+0.03439586579231204j), ...  \n",
       "2    [[[(0.41941757943509067-0.03390905844045573j),...  \n",
       "3    [[[(1.8262632061848432-0.008308847430309628j),...  \n",
       "4    [[[(3.2670964605441224+0.251179389306744j), (1...  \n",
       "..                                                 ...  \n",
       "895  [[[(2.186536399726562+0.3448740159861551j), (0...  \n",
       "896  [[[(-0.6970831469901372-0.06308556922682065j),...  \n",
       "897  [[[(3.3794469689340634+0.3628565755703701j), (...  \n",
       "898  [[[(2.151739366604096-0.13887586731907928j), (...  \n",
       "899  [[[(0.7439237727203086+0.05259284880001554j), ...  \n",
       "\n",
       "[900 rows x 3 columns]"
      ]
     },
     "execution_count": 7,
     "metadata": {},
     "output_type": "execute_result"
    }
   ],
   "source": [
    "\n",
    "test_ecg = ecg.signal(number_labels={\"VA\" : 300, \"AF\" : 300, \"SR\" : 300})\n",
    "\n",
    "wt.cwt_transform_df(test_ecg, 0, 2, wt.wavelet()[3])\n"
   ]
  },
  {
   "cell_type": "code",
   "execution_count": 115,
   "metadata": {},
   "outputs": [
    {
     "data": {
      "text/plain": [
       "(2, 96, 1000)"
      ]
     },
     "execution_count": 115,
     "metadata": {},
     "output_type": "execute_result"
    }
   ],
   "source": [
    "test_ecg[\"CWT\"][1].shape"
   ]
  },
  {
   "cell_type": "code",
   "execution_count": 8,
   "metadata": {},
   "outputs": [],
   "source": [
    "test_ecg = test_ecg.replace({\"label\" : {\"SR\":0, \"VA\":1, \"AF\":2}})"
   ]
  },
  {
   "cell_type": "code",
   "execution_count": 9,
   "metadata": {},
   "outputs": [],
   "source": [
    "X_train, X_test, y_train, y_test \\\n",
    "    = train_test_split(np.array(test_ecg[\"CWT\"]), np.array(test_ecg[\"label\"]), test_size=0.2, random_state=1)\n",
    "\n",
    "X_train, X_val, y_train, y_val \\\n",
    "    = train_test_split(np.array(X_train), np.array(y_train), test_size=0.25, random_state=1) # 0.25 x 0.8 = 0.2\n",
    "\n",
    "# train 80%, test 20%, val 20%"
   ]
  },
  {
   "cell_type": "code",
   "execution_count": 10,
   "metadata": {},
   "outputs": [],
   "source": [
    "X_train = np.stack(X_train, axis=0)\n",
    "X_val = np.stack(X_val, axis=0)\n",
    "X_test = np.stack(X_test, axis=0)"
   ]
  },
  {
   "cell_type": "code",
   "execution_count": 11,
   "metadata": {},
   "outputs": [
    {
     "name": "stderr",
     "output_type": "stream",
     "text": [
      "d:\\anaconda3\\Lib\\site-packages\\tensorflow\\python\\framework\\constant_op.py:103: ComplexWarning: Casting complex values to real discards the imaginary part\n",
      "  return ops.EagerTensor(value, ctx.device_name, dtype)\n"
     ]
    }
   ],
   "source": [
    "# Преобразование меток в one-hot кодировку\n",
    "# y_train = to_categorical(y_train, num_classes=3).numpy()\n",
    "# y_val = to_categorical(y_val, num_classes=3)\n",
    "# y_test = to_categorical(y_test, num_classes=3)\n",
    "\n",
    "X_train = X_train.reshape((X_train.shape[0], X_train.shape[2], X_train.shape[3], X_train.shape[1]))\n",
    "X_train = tf.convert_to_tensor(X_train, dtype=tf.float32)\n",
    "X_val = X_val.reshape((X_val.shape[0], X_val.shape[2], X_val.shape[3], X_val.shape[1]))\n",
    "X_val = tf.convert_to_tensor(X_val, dtype=tf.float32)\n",
    "\n",
    "X_test = X_test.reshape((X_test.shape[0], X_test.shape[2], X_test.shape[3], X_test.shape[1]))\n",
    "X_test = tf.convert_to_tensor(X_test, dtype=tf.float32)\n",
    "\n",
    "y_train = tf.one_hot(y_train, depth=3).numpy()\n",
    "y_val = tf.one_hot(y_val, depth=3).numpy()\n",
    "y_test = tf.one_hot(y_test, depth=3).numpy()"
   ]
  },
  {
   "cell_type": "code",
   "execution_count": 120,
   "metadata": {},
   "outputs": [
    {
     "data": {
      "text/plain": [
       "TensorShape([180, 96, 1000, 2])"
      ]
     },
     "execution_count": 120,
     "metadata": {},
     "output_type": "execute_result"
    }
   ],
   "source": [
    "X_val.shape"
   ]
  },
  {
   "cell_type": "code",
   "execution_count": 111,
   "metadata": {},
   "outputs": [
    {
     "name": "stdout",
     "output_type": "stream",
     "text": [
      "Epoch 1/15\n",
      "1/1 [==============================] - 2s 2s/step - loss: 1.0777 - accuracy: 0.3889 - val_loss: 1.1326 - val_accuracy: 0.0000e+00\n",
      "Epoch 2/15\n",
      "1/1 [==============================] - 1s 1s/step - loss: 1.1517 - accuracy: 0.2222 - val_loss: 1.1309 - val_accuracy: 0.0000e+00\n",
      "Epoch 3/15\n",
      "1/1 [==============================] - 1s 1s/step - loss: 1.0313 - accuracy: 0.4444 - val_loss: 1.1241 - val_accuracy: 0.0000e+00\n",
      "Epoch 4/15\n",
      "1/1 [==============================] - 1s 1s/step - loss: 1.1061 - accuracy: 0.3889 - val_loss: 1.1262 - val_accuracy: 0.0000e+00\n",
      "Epoch 5/15\n",
      "1/1 [==============================] - 1s 1s/step - loss: 1.1011 - accuracy: 0.2778 - val_loss: 1.1253 - val_accuracy: 0.0000e+00\n",
      "Epoch 6/15\n",
      "1/1 [==============================] - 1s 1s/step - loss: 0.9790 - accuracy: 0.5000 - val_loss: 1.1238 - val_accuracy: 0.1667\n",
      "Epoch 7/15\n",
      "1/1 [==============================] - 1s 1s/step - loss: 1.0597 - accuracy: 0.3889 - val_loss: 1.1245 - val_accuracy: 0.1667\n",
      "Epoch 8/15\n",
      "1/1 [==============================] - 1s 1s/step - loss: 1.1134 - accuracy: 0.3333 - val_loss: 1.1201 - val_accuracy: 0.1667\n",
      "Epoch 9/15\n",
      "1/1 [==============================] - 1s 1s/step - loss: 0.9700 - accuracy: 0.5556 - val_loss: 1.1189 - val_accuracy: 0.1667\n",
      "Epoch 10/15\n",
      "1/1 [==============================] - 1s 1s/step - loss: 1.1016 - accuracy: 0.2778 - val_loss: 1.1221 - val_accuracy: 0.1667\n",
      "Epoch 11/15\n",
      "1/1 [==============================] - 1s 1s/step - loss: 1.0038 - accuracy: 0.5000 - val_loss: 1.1181 - val_accuracy: 0.1667\n",
      "Epoch 12/15\n",
      "1/1 [==============================] - 1s 1s/step - loss: 1.0715 - accuracy: 0.3333 - val_loss: 1.1155 - val_accuracy: 0.1667\n",
      "Epoch 13/15\n",
      "1/1 [==============================] - 1s 1s/step - loss: 1.0527 - accuracy: 0.4444 - val_loss: 1.1083 - val_accuracy: 0.1667\n",
      "Epoch 14/15\n",
      "1/1 [==============================] - 1s 1s/step - loss: 0.9885 - accuracy: 0.5556 - val_loss: 1.1060 - val_accuracy: 0.1667\n",
      "Epoch 15/15\n",
      "1/1 [==============================] - 1s 1s/step - loss: 1.0355 - accuracy: 0.5556 - val_loss: 1.1069 - val_accuracy: 0.1667\n",
      "1/1 [==============================] - 0s 111ms/step - loss: 0.9836 - accuracy: 0.8333\n",
      "Test accuracy: 0.8333333134651184\n"
     ]
    }
   ],
   "source": [
    "\n",
    "\n",
    "# Предположим, что X_train, y_train, X_val, y_val, X_test, y_test - это ваши данные\n",
    "spec_height = test_ecg[\"CWT\"][0].shape[1]\n",
    "spec_width = test_ecg[\"CWT\"][0].shape[2]\n",
    "channels = 2  # для двух каналов в спектрограмме\n",
    "conv_shape = 5\n",
    "opt = SGD(learning_rate = 0.0001)\n",
    "\n",
    "# Создание модели\n",
    "model = models.Sequential()\n",
    "model.add(layers.Conv2D(32, (conv_shape, conv_shape), activation='relu', input_shape=(spec_height, spec_width, channels)))\n",
    "model.add(layers.MaxPooling2D((2, 2)))\n",
    "model.add(layers.Conv2D(64, (conv_shape, conv_shape), activation='relu'))\n",
    "model.add(layers.MaxPooling2D((2, 2)))\n",
    "model.add(layers.Conv2D(128, (conv_shape, conv_shape), activation='relu'))\n",
    "model.add(layers.MaxPooling2D((2, 2)))\n",
    "model.add(layers.Flatten())\n",
    "model.add(layers.Dense(128, activation='relu'))\n",
    "model.add(layers.Dropout(0.5))\n",
    "model.add(layers.Dense(3, activation='softmax'))\n",
    "\n",
    "# Компиляция модели\n",
    "model.compile(optimizer=opt,\n",
    "              loss='categorical_crossentropy',\n",
    "              metrics=['accuracy'])\n",
    "\n",
    "# Обучение модели\n",
    "model.fit(X_train, y_train, epochs=15, validation_data=(X_val, y_val))\n",
    "\n",
    "# Оценка производительности на тестовом наборе\n",
    "test_loss, test_acc = model.evaluate(X_test, y_test)\n",
    "print('Test accuracy:', test_acc)\n"
   ]
  },
  {
   "cell_type": "markdown",
   "metadata": {},
   "source": [
    "# Выше результаты для вейвлета морле с выборкой 300\n"
   ]
  },
  {
   "cell_type": "code",
   "execution_count": 121,
   "metadata": {},
   "outputs": [
    {
     "name": "stdout",
     "output_type": "stream",
     "text": [
      "Epoch 1/25\n",
      "17/17 [==============================] - 32s 2s/step - loss: 1.1115 - accuracy: 0.3981 - val_loss: 1.0417 - val_accuracy: 0.4611\n",
      "Epoch 2/25\n",
      "17/17 [==============================] - 34s 2s/step - loss: 1.0380 - accuracy: 0.4519 - val_loss: 0.9973 - val_accuracy: 0.5056\n",
      "Epoch 3/25\n",
      "17/17 [==============================] - 32s 2s/step - loss: 0.9787 - accuracy: 0.5241 - val_loss: 0.9723 - val_accuracy: 0.5056\n",
      "Epoch 4/25\n",
      "17/17 [==============================] - 32s 2s/step - loss: 0.9631 - accuracy: 0.5259 - val_loss: 0.9471 - val_accuracy: 0.5167\n",
      "Epoch 5/25\n",
      "17/17 [==============================] - 46s 3s/step - loss: 0.9270 - accuracy: 0.5444 - val_loss: 0.9278 - val_accuracy: 0.5611\n",
      "Epoch 6/25\n",
      "17/17 [==============================] - 44s 3s/step - loss: 0.8948 - accuracy: 0.5611 - val_loss: 0.9095 - val_accuracy: 0.5889\n",
      "Epoch 7/25\n",
      "17/17 [==============================] - 43s 3s/step - loss: 0.8836 - accuracy: 0.6111 - val_loss: 0.9026 - val_accuracy: 0.5667\n",
      "Epoch 8/25\n",
      "17/17 [==============================] - 43s 3s/step - loss: 0.8635 - accuracy: 0.5907 - val_loss: 0.8925 - val_accuracy: 0.5500\n",
      "Epoch 9/25\n",
      "17/17 [==============================] - 43s 3s/step - loss: 0.8704 - accuracy: 0.5852 - val_loss: 0.8849 - val_accuracy: 0.5556\n",
      "Epoch 10/25\n",
      "17/17 [==============================] - 43s 3s/step - loss: 0.8558 - accuracy: 0.6093 - val_loss: 0.8740 - val_accuracy: 0.5889\n",
      "Epoch 11/25\n",
      "17/17 [==============================] - 45s 3s/step - loss: 0.8249 - accuracy: 0.6370 - val_loss: 0.8767 - val_accuracy: 0.5500\n",
      "Epoch 12/25\n",
      "17/17 [==============================] - 44s 3s/step - loss: 0.8181 - accuracy: 0.6333 - val_loss: 0.8637 - val_accuracy: 0.5889\n",
      "Epoch 13/25\n",
      "17/17 [==============================] - 43s 3s/step - loss: 0.8057 - accuracy: 0.6481 - val_loss: 0.8607 - val_accuracy: 0.5722\n",
      "Epoch 14/25\n",
      "17/17 [==============================] - 43s 3s/step - loss: 0.8095 - accuracy: 0.6222 - val_loss: 0.8567 - val_accuracy: 0.5722\n",
      "Epoch 15/25\n",
      "17/17 [==============================] - 48s 3s/step - loss: 0.8009 - accuracy: 0.6389 - val_loss: 0.8450 - val_accuracy: 0.6167\n",
      "Epoch 16/25\n",
      "17/17 [==============================] - 43s 3s/step - loss: 0.7809 - accuracy: 0.6463 - val_loss: 0.8433 - val_accuracy: 0.6167\n",
      "Epoch 17/25\n",
      "17/17 [==============================] - 42s 2s/step - loss: 0.7638 - accuracy: 0.6556 - val_loss: 0.8374 - val_accuracy: 0.6167\n",
      "Epoch 18/25\n",
      "17/17 [==============================] - 42s 2s/step - loss: 0.7600 - accuracy: 0.6741 - val_loss: 0.8429 - val_accuracy: 0.5944\n",
      "Epoch 19/25\n",
      "17/17 [==============================] - 42s 2s/step - loss: 0.7467 - accuracy: 0.6796 - val_loss: 0.8344 - val_accuracy: 0.6000\n",
      "Epoch 20/25\n",
      "17/17 [==============================] - 42s 2s/step - loss: 0.7632 - accuracy: 0.6593 - val_loss: 0.8344 - val_accuracy: 0.6111\n",
      "Epoch 21/25\n",
      "17/17 [==============================] - 42s 2s/step - loss: 0.7516 - accuracy: 0.6704 - val_loss: 0.8322 - val_accuracy: 0.6111\n",
      "Epoch 22/25\n",
      "17/17 [==============================] - 45s 3s/step - loss: 0.7464 - accuracy: 0.6815 - val_loss: 0.8242 - val_accuracy: 0.6333\n",
      "Epoch 23/25\n",
      "17/17 [==============================] - 43s 3s/step - loss: 0.7401 - accuracy: 0.6852 - val_loss: 0.8290 - val_accuracy: 0.6056\n",
      "Epoch 24/25\n",
      "17/17 [==============================] - 42s 3s/step - loss: 0.7267 - accuracy: 0.6889 - val_loss: 0.8197 - val_accuracy: 0.6444\n",
      "Epoch 25/25\n",
      "17/17 [==============================] - 42s 2s/step - loss: 0.7237 - accuracy: 0.6796 - val_loss: 0.8180 - val_accuracy: 0.6111\n",
      "6/6 [==============================] - 3s 478ms/step - loss: 0.7672 - accuracy: 0.6722\n",
      "Test accuracy: 0.6722221970558167\n"
     ]
    }
   ],
   "source": [
    "\n",
    "# Предположим, что X_train, y_train, X_val, y_val, X_test, y_test - это ваши данные\n",
    "spec_height = test_ecg[\"CWT\"][0].shape[1]\n",
    "spec_width = test_ecg[\"CWT\"][0].shape[2]\n",
    "channels = 2  # для двух каналов в спектрограмме\n",
    "conv_shape = 5\n",
    "opt = SGD(learning_rate = 0.0001)\n",
    "\n",
    "# Создание модели\n",
    "model = models.Sequential()\n",
    "model.add(layers.Conv2D(32, (conv_shape, conv_shape), activation='relu', input_shape=(spec_height, spec_width, channels)))\n",
    "model.add(layers.MaxPooling2D((2, 2)))\n",
    "model.add(layers.Conv2D(64, (conv_shape, conv_shape), activation='relu'))\n",
    "model.add(layers.MaxPooling2D((2, 2)))\n",
    "model.add(layers.Conv2D(128, (conv_shape, conv_shape), activation='relu'))\n",
    "model.add(layers.MaxPooling2D((2, 2)))\n",
    "model.add(layers.Flatten())\n",
    "model.add(layers.Dense(128, activation='relu'))\n",
    "model.add(layers.Dropout(0.5))\n",
    "model.add(layers.Dense(3, activation='softmax'))\n",
    "\n",
    "# Компиляция модели\n",
    "model.compile(optimizer=opt,\n",
    "              loss='categorical_crossentropy',\n",
    "              metrics=['accuracy'])\n",
    "\n",
    "# Обучение модели\n",
    "model.fit(X_train, y_train, epochs=25, validation_data=(X_val, y_val))\n",
    "\n",
    "# Оценка производительности на тестовом наборе\n",
    "test_loss, test_acc = model.evaluate(X_test, y_test)\n",
    "print('Test accuracy:', test_acc)\n"
   ]
  },
  {
   "cell_type": "markdown",
   "metadata": {},
   "source": [
    "# Выше результат для выборки в 900 для вейвлета мексики"
   ]
  },
  {
   "cell_type": "code",
   "execution_count": 12,
   "metadata": {},
   "outputs": [
    {
     "name": "stdout",
     "output_type": "stream",
     "text": [
      "WARNING:tensorflow:From d:\\anaconda3\\Lib\\site-packages\\keras\\src\\backend.py:873: The name tf.get_default_graph is deprecated. Please use tf.compat.v1.get_default_graph instead.\n",
      "\n",
      "WARNING:tensorflow:From d:\\anaconda3\\Lib\\site-packages\\keras\\src\\layers\\pooling\\max_pooling2d.py:161: The name tf.nn.max_pool is deprecated. Please use tf.nn.max_pool2d instead.\n",
      "\n",
      "Epoch 1/25\n",
      "WARNING:tensorflow:From d:\\anaconda3\\Lib\\site-packages\\keras\\src\\utils\\tf_utils.py:492: The name tf.ragged.RaggedTensorValue is deprecated. Please use tf.compat.v1.ragged.RaggedTensorValue instead.\n",
      "\n",
      "WARNING:tensorflow:From d:\\anaconda3\\Lib\\site-packages\\keras\\src\\engine\\base_layer_utils.py:384: The name tf.executing_eagerly_outside_functions is deprecated. Please use tf.compat.v1.executing_eagerly_outside_functions instead.\n",
      "\n",
      "17/17 [==============================] - 51s 3s/step - loss: 1.1430 - accuracy: 0.3722 - val_loss: 1.0552 - val_accuracy: 0.5000\n",
      "Epoch 2/25\n",
      "17/17 [==============================] - 45s 3s/step - loss: 1.0467 - accuracy: 0.4519 - val_loss: 1.0098 - val_accuracy: 0.4778\n",
      "Epoch 3/25\n",
      "17/17 [==============================] - 43s 3s/step - loss: 0.9846 - accuracy: 0.5167 - val_loss: 0.9773 - val_accuracy: 0.5000\n",
      "Epoch 4/25\n",
      "17/17 [==============================] - 44s 3s/step - loss: 0.9715 - accuracy: 0.5241 - val_loss: 0.9563 - val_accuracy: 0.5111\n",
      "Epoch 5/25\n",
      "17/17 [==============================] - 43s 3s/step - loss: 0.9207 - accuracy: 0.5648 - val_loss: 0.9336 - val_accuracy: 0.5222\n",
      "Epoch 6/25\n",
      "17/17 [==============================] - 42s 2s/step - loss: 0.8944 - accuracy: 0.5926 - val_loss: 0.9095 - val_accuracy: 0.5833\n",
      "Epoch 7/25\n",
      "17/17 [==============================] - 40s 2s/step - loss: 0.8817 - accuracy: 0.6037 - val_loss: 0.9114 - val_accuracy: 0.5500\n",
      "Epoch 8/25\n",
      "17/17 [==============================] - 40s 2s/step - loss: 0.8579 - accuracy: 0.5981 - val_loss: 0.8958 - val_accuracy: 0.5778\n",
      "Epoch 9/25\n",
      "17/17 [==============================] - 41s 2s/step - loss: 0.8607 - accuracy: 0.6093 - val_loss: 0.8807 - val_accuracy: 0.6000\n",
      "Epoch 10/25\n",
      "17/17 [==============================] - 43s 3s/step - loss: 0.8411 - accuracy: 0.6167 - val_loss: 0.8814 - val_accuracy: 0.5833\n",
      "Epoch 11/25\n",
      "17/17 [==============================] - 43s 3s/step - loss: 0.8383 - accuracy: 0.6185 - val_loss: 0.8690 - val_accuracy: 0.6000\n",
      "Epoch 12/25\n",
      "17/17 [==============================] - 42s 2s/step - loss: 0.8296 - accuracy: 0.6241 - val_loss: 0.8621 - val_accuracy: 0.6167\n",
      "Epoch 13/25\n",
      "17/17 [==============================] - 42s 2s/step - loss: 0.8144 - accuracy: 0.6481 - val_loss: 0.8589 - val_accuracy: 0.6000\n",
      "Epoch 14/25\n",
      "17/17 [==============================] - 42s 2s/step - loss: 0.7989 - accuracy: 0.6407 - val_loss: 0.8736 - val_accuracy: 0.5667\n",
      "Epoch 15/25\n",
      "17/17 [==============================] - 40s 2s/step - loss: 0.7968 - accuracy: 0.6333 - val_loss: 0.8603 - val_accuracy: 0.5833\n",
      "Epoch 16/25\n",
      "17/17 [==============================] - 41s 2s/step - loss: 0.8062 - accuracy: 0.6370 - val_loss: 0.8475 - val_accuracy: 0.6222\n",
      "Epoch 17/25\n",
      "17/17 [==============================] - 42s 2s/step - loss: 0.7771 - accuracy: 0.6630 - val_loss: 0.8413 - val_accuracy: 0.6222\n",
      "Epoch 18/25\n",
      "17/17 [==============================] - 42s 2s/step - loss: 0.7955 - accuracy: 0.6389 - val_loss: 0.8444 - val_accuracy: 0.6222\n",
      "Epoch 19/25\n",
      "17/17 [==============================] - 42s 2s/step - loss: 0.7899 - accuracy: 0.6537 - val_loss: 0.8442 - val_accuracy: 0.5833\n",
      "Epoch 20/25\n",
      "17/17 [==============================] - 41s 2s/step - loss: 0.7777 - accuracy: 0.6463 - val_loss: 0.8450 - val_accuracy: 0.5889\n",
      "Epoch 21/25\n",
      "17/17 [==============================] - 41s 2s/step - loss: 0.7588 - accuracy: 0.6796 - val_loss: 0.8315 - val_accuracy: 0.6278\n",
      "Epoch 22/25\n",
      "17/17 [==============================] - 41s 2s/step - loss: 0.7462 - accuracy: 0.6889 - val_loss: 0.8248 - val_accuracy: 0.6222\n",
      "Epoch 23/25\n",
      "17/17 [==============================] - 42s 2s/step - loss: 0.7664 - accuracy: 0.6426 - val_loss: 0.8241 - val_accuracy: 0.6167\n",
      "Epoch 24/25\n",
      "17/17 [==============================] - 42s 3s/step - loss: 0.7462 - accuracy: 0.6759 - val_loss: 0.8219 - val_accuracy: 0.6389\n",
      "Epoch 25/25\n",
      "17/17 [==============================] - 42s 2s/step - loss: 0.7560 - accuracy: 0.6704 - val_loss: 0.8269 - val_accuracy: 0.6167\n",
      "6/6 [==============================] - 3s 498ms/step - loss: 0.8531 - accuracy: 0.6167\n",
      "Test accuracy: 0.6166666746139526\n"
     ]
    }
   ],
   "source": [
    "# Предположим, что X_train, y_train, X_val, y_val, X_test, y_test - это ваши данные\n",
    "spec_height = test_ecg[\"CWT\"][0].shape[1]\n",
    "spec_width = test_ecg[\"CWT\"][0].shape[2]\n",
    "channels = 2  # для двух каналов в спектрограмме\n",
    "conv_shape = 5\n",
    "opt = SGD(learning_rate = 0.0001)\n",
    "\n",
    "# Создание модели\n",
    "model = models.Sequential()\n",
    "model.add(layers.Conv2D(32, (conv_shape, conv_shape), activation='relu', input_shape=(spec_height, spec_width, channels)))\n",
    "model.add(layers.MaxPooling2D((2, 2)))\n",
    "model.add(layers.Conv2D(64, (conv_shape, conv_shape), activation='relu'))\n",
    "model.add(layers.MaxPooling2D((2, 2)))\n",
    "model.add(layers.Conv2D(128, (conv_shape, conv_shape), activation='relu'))\n",
    "model.add(layers.MaxPooling2D((2, 2)))\n",
    "model.add(layers.Flatten())\n",
    "model.add(layers.Dense(128, activation='relu'))\n",
    "model.add(layers.Dropout(0.5))\n",
    "model.add(layers.Dense(3, activation='softmax'))\n",
    "\n",
    "# Компиляция модели\n",
    "model.compile(optimizer=opt,\n",
    "              loss='categorical_crossentropy',\n",
    "              metrics=['accuracy'])\n",
    "\n",
    "# Обучение модели\n",
    "model.fit(X_train, y_train, epochs=25, validation_data=(X_val, y_val))\n",
    "\n",
    "# Оценка производительности на тестовом наборе\n",
    "test_loss, test_acc = model.evaluate(X_test, y_test)\n",
    "print('Test accuracy:', test_acc)"
   ]
  }
 ],
 "metadata": {
  "kernelspec": {
   "display_name": "base",
   "language": "python",
   "name": "python3"
  },
  "language_info": {
   "codemirror_mode": {
    "name": "ipython",
    "version": 3
   },
   "file_extension": ".py",
   "mimetype": "text/x-python",
   "name": "python",
   "nbconvert_exporter": "python",
   "pygments_lexer": "ipython3",
   "version": "3.11.4"
  }
 },
 "nbformat": 4,
 "nbformat_minor": 2
}
