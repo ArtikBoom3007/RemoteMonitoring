{
 "cells": [
  {
   "cell_type": "markdown",
   "id": "6c8e43c9",
   "metadata": {},
   "source": [
    "# Пример стандартной классификационной нейронной сети написанной вручную"
   ]
  },
  {
   "cell_type": "markdown",
   "id": "1bd007fa",
   "metadata": {},
   "source": [
    "## Импортируем всё необходимое"
   ]
  },
  {
   "cell_type": "code",
   "execution_count": 1,
   "id": "7f03644b",
   "metadata": {},
   "outputs": [],
   "source": [
    "import numpy as np\n",
    "import matplotlib.pyplot as plt\n",
    "\n",
    "from scipy.special import expit # Импорт функции сигмоиды"
   ]
  },
  {
   "cell_type": "markdown",
   "id": "9f499020",
   "metadata": {},
   "source": [
    "## Создаём класс нейронной сети"
   ]
  },
  {
   "cell_type": "code",
   "execution_count": 2,
   "id": "996508e0",
   "metadata": {},
   "outputs": [],
   "source": [
    "class newral_network:\n",
    "    \n",
    "    # Инициализация нейронной сети\n",
    "    def __init__(self, input_nodes,\n",
    "                 hidden_nodes, output_nodes,\n",
    "                 learning_rate):\n",
    "        # Задаём количество узлов во входном, скрытом и выходном слое\n",
    "        self.inodes = input_nodes\n",
    "        self.hnodes = hidden_nodes\n",
    "        self.onodes = output_nodes\n",
    "        \n",
    "        # Коэффициент обучения\n",
    "        self.lr = learning_rate\n",
    "        \n",
    "        # Создание весовых коэффициентов\n",
    "        self.wih = np.random.normal(0, pow(self.hnodes, -0.5),\n",
    "                                    (self.hnodes, self.inodes))\n",
    "        self.who = np.random.normal(0, pow(self.onodes, -0.5),\n",
    "                                    (self.onodes, self.hnodes))\n",
    "        \n",
    "        # Использование сигмоиды в качестве функции активации \n",
    "        self.activation_function = lambda x: expit(x)\n",
    "        pass\n",
    "    \n",
    "    \n",
    "    # Тренировка нейронной сети\n",
    "    def train(self, inputs_list, targets_list):\n",
    "        # Преобразование списка входных значений в вектор-столбец\n",
    "        inputs = np.array(inputs_list, ndmin = 2).T\n",
    "        # Преобразование списка целевых значений в вектор-столбец\n",
    "        targets = np.array(targets_list, ndmin=2).T\n",
    "        \n",
    "        # Расчёт входных сигналов для скрытого слоя\n",
    "        hidden_inputs = np.dot(self.wih, inputs)\n",
    "        # Расчёт исходящих сигналов для скрытого слоя \n",
    "        hidden_outputs = self.activation_function(hidden_inputs)\n",
    "        \n",
    "        # Расчёт входных сигналов для выходного слоя\n",
    "        final_inputs = np.dot(self.who, hidden_outputs)\n",
    "        # Расчёт исходящих сигналов для выходного слоя \n",
    "        final_outputs = self.activation_function(final_inputs)\n",
    "        \n",
    "        # Ошибки выходного слоя = (целевое значение - фактическое значение) \n",
    "        output_errors = targets - final_outputs\n",
    "        \n",
    "        # Ошибки скрытого слоя - это ошибки output_errors,\n",
    "        # распределённые пропорционально весовым коэффициентам связей\n",
    "        # и рекомбинированные на скрытых узлах \n",
    "        hidden_errors = np.dot(self.who.T, output_errors)\n",
    "        \n",
    "        # обновить весовые коэффициенты для связей между\n",
    "        # скрытым и выходным слоями\n",
    "        self.who += self.lr * np.dot((output_errors * final_outputs * (1.0 - final_outputs)),\n",
    "                                        np.transpose(hidden_outputs))\n",
    "\n",
    "        # обновить весовые коэффициенты для связей между\n",
    "        # входным и скрытым слоями\n",
    "        self.wih += self.lr * np.dot((hidden_errors * hidden_outputs * (1.0 - hidden_outputs)),\n",
    "                                        np.transpose(inputs))\n",
    "        \n",
    "        pass\n",
    "    \n",
    "\n",
    "    # Тестирование нейронной сети\n",
    "    def query(self, inputs_list):\n",
    "        # Преобразование списка входных значений в двухмерный массив\n",
    "        inputs = np.array(inputs_list, ndmin = 2).T\n",
    "        \n",
    "        # Расчёт входных сигналов для скрытого слоя\n",
    "        hidden_inputs = np.dot(self.wih, inputs)\n",
    "        # Расчёт исходящих сигналов для скрытого слоя \n",
    "        hidden_outputs = self.activation_function(hidden_inputs)\n",
    "        \n",
    "        # Расчёт входных сигналов для выходного слоя\n",
    "        final_inputs = np.dot(self.who, hidden_outputs)\n",
    "        # Расчёт исходящих сигналов для выходного слоя \n",
    "        final_outputs = self.activation_function(final_inputs)\n",
    "\n",
    "        return final_outputs"
   ]
  },
  {
   "cell_type": "markdown",
   "id": "21a17958",
   "metadata": {},
   "source": [
    "## Создаём конкретную нейронную сеть как объект класса"
   ]
  },
  {
   "cell_type": "code",
   "execution_count": 3,
   "id": "adf6bcda",
   "metadata": {},
   "outputs": [],
   "source": [
    "# Количество входных, скрытых и выходных узлов\n",
    "input_nodes = 784\n",
    "hidden_nodes = 200\n",
    "output_nodes = 10\n",
    "\n",
    "# Коэффициент обучения\n",
    "learning_rate = 0.1\n",
    "\n",
    "# Создание экземпляра нейронной сети\n",
    "n = newral_network(input_nodes, hidden_nodes, output_nodes, learning_rate)"
   ]
  },
  {
   "cell_type": "code",
   "execution_count": 4,
   "id": "bf2c4934",
   "metadata": {},
   "outputs": [],
   "source": [
    "# Загрузка в список тренировочного набора данных CSV-файла набора MNIST \n",
    "training_data_file = open('mnist_dataset/mnist_train.csv', 'r')\n",
    "training_data_list = training_data_file.readlines() \n",
    "training_data_file.close()"
   ]
  },
  {
   "cell_type": "code",
   "execution_count": 5,
   "id": "fa1904ee",
   "metadata": {},
   "outputs": [],
   "source": [
    "# Тренировка нейронной сети\n",
    "\n",
    "# Переменная epochs указывает, сколько раз тренировочный набор данных используется для тренировки сети \n",
    "epochs = 5\n",
    "\n",
    "for e in range(epochs):\n",
    "    # Перебираем все записи в тренировочном наборе данных \n",
    "    for record in training_data_list:\n",
    "        # Получаем список значений, используя символы запятой (',') в качестве разделителей \n",
    "        all_values = record.split(',')\n",
    "        \n",
    "        # Масштабируем и смещаем входные значения\n",
    "        inputs = (np.asfarray(all_values[1:]) / 255.0 * 0.99) + 0.01\n",
    "        \n",
    "        # Создаём целевые выходные значения (все равны 0,01, за исключением желаемого маркерного значения, равного 0,99) \n",
    "        targets = np.zeros(output_nodes) + 0.01\n",
    "        \n",
    "        # all_values[0] - целевое маркерное значение для данной записи \n",
    "        targets[int(all_values[0])] = 0.99\n",
    "        n.train(inputs, targets)\n",
    "    \n",
    "        pass\n",
    "    pass"
   ]
  },
  {
   "cell_type": "markdown",
   "id": "2217702f",
   "metadata": {},
   "source": [
    "## Тестируем полученную сеть"
   ]
  },
  {
   "cell_type": "code",
   "execution_count": 6,
   "id": "bac1e1a0",
   "metadata": {},
   "outputs": [],
   "source": [
    "# Загрузка в список тестового набора данных CSV-файла набора MNIST \n",
    "test_data_file = open('mnist_dataset/mnist_test.csv', 'r')\n",
    "test_data_list = test_data_file.readlines() \n",
    "test_data_file.close()"
   ]
  },
  {
   "cell_type": "code",
   "execution_count": 7,
   "id": "53af3210",
   "metadata": {},
   "outputs": [
    {
     "name": "stdout",
     "output_type": "stream",
     "text": [
      "7\n"
     ]
    }
   ],
   "source": [
    "# Получаем первую тестовую запись\n",
    "all_values = test_data_list[0].split(',')\n",
    "# Выводим целевое значение\n",
    "print(all_values[0])"
   ]
  },
  {
   "cell_type": "code",
   "execution_count": 8,
   "id": "39771906",
   "metadata": {},
   "outputs": [
    {
     "data": {
      "image/png": "[encoded data removed]",
      "text/plain": [
       "<Figure size 640x480 with 1 Axes>"
      ]
     },
     "metadata": {},
     "output_type": "display_data"
    }
   ],
   "source": [
    "image_array = np.asfarray(all_values[1:]).reshape((28,28))\n",
    "plt.imshow(image_array, cmap = 'Greys');"
   ]
  },
  {
   "cell_type": "code",
   "execution_count": 9,
   "id": "32a00a4d",
   "metadata": {},
   "outputs": [
    {
     "data": {
      "text/plain": [
       "array([[0.00785342],\n",
       "       [0.00500173],\n",
       "       [0.00754216],\n",
       "       [0.00379494],\n",
       "       [0.00641034],\n",
       "       [0.00755525],\n",
       "       [0.00836815],\n",
       "       [0.99618345],\n",
       "       [0.00213387],\n",
       "       [0.01255749]])"
      ]
     },
     "execution_count": 9,
     "metadata": {},
     "output_type": "execute_result"
    }
   ],
   "source": [
    "n.query((np.asfarray(all_values[1:]) / 255 * 0.99) + 0.01)"
   ]
  },
  {
   "cell_type": "code",
   "execution_count": 10,
   "id": "da04eedc",
   "metadata": {},
   "outputs": [],
   "source": [
    "# Тестирование нейронной сети\n",
    "\n",
    "# Журнал оценок работы сети, первоначально пустой \n",
    "scorecard = []\n",
    "\n",
    "# Перебираем все записи в тестовом наборе данных \n",
    "for record in test_data_list:\n",
    "    # Получаем список значений из записи, используя символы запятой (',') в качестве разделителей \n",
    "    all_values = record.split(',')\n",
    "    \n",
    "    # Правильный ответ - первое значение \n",
    "    correct_label = int(all_values[0])\n",
    "    #print(correct_label, \"истинный маркер\")\n",
    "    \n",
    "    # Масштабируем и смещаем входные значения\n",
    "    inputs = (np.asfarray(all_values[1:]) / 255.0 * 0.99) + 0.01\n",
    "    \n",
    "    # Опрос сети\n",
    "    outputs = n.query(inputs)\n",
    "    \n",
    "    # Индекс наибольшего значения является маркерным значением \n",
    "    label = np.argmax(outputs)\n",
    "    #print(label, \"ответ сети\")\n",
    "    \n",
    "    # Присоединяем оценку ответа сети к концу списка \n",
    "    if (label == correct_label):\n",
    "        # В случае правильного ответа сети присоединить к списку значение 1 \n",
    "        scorecard.append(1)\n",
    "    else:\n",
    "        # В случае неправильного ответа сети присоединить к списку значение 0 \n",
    "        scorecard.append(0) \n",
    "        pass\n",
    "    \n",
    "    pass"
   ]
  },
  {
   "cell_type": "code",
   "execution_count": 11,
   "id": "6abaf48b",
   "metadata": {},
   "outputs": [
    {
     "name": "stdout",
     "output_type": "stream",
     "text": [
      "Эффективность нейронной сети = 0.9724\n"
     ]
    }
   ],
   "source": [
    "#print(scorecard)\n",
    "print('Эффективность нейронной сети =', sum(scorecard)/len(scorecard))"
   ]
  },
  {
   "cell_type": "code",
   "execution_count": null,
   "id": "33b312d5",
   "metadata": {},
   "outputs": [],
   "source": []
  }
 ],
 "metadata": {
  "kernelspec": {
   "display_name": "Python 3 (ipykernel)",
   "language": "python",
   "name": "python3"
  },
  "language_info": {
   "codemirror_mode": {
    "name": "ipython",
    "version": 3
   },
   "file_extension": ".py",
   "mimetype": "text/x-python",
   "name": "python",
   "nbconvert_exporter": "python",
   "pygments_lexer": "ipython3",
   "version": "3.11.4"
  }
 },
 "nbformat": 4,
 "nbformat_minor": 5
}
