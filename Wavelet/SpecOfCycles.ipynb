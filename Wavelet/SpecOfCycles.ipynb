{
 "cells": [
  {
   "cell_type": "code",
   "execution_count": null,
   "id": "a0a7787f",
   "metadata": {},
   "outputs": [],
   "source": [
    "# Из VECG нужна функция find_peaks, Тема надеюсь я правильно написал\n",
    "# Я не все понимаю как должно быть, но надеюсь получилось выполнить просьбу\n",
    "import VECG as ve\n",
    "import numpy as np\n",
    "import matplotlib.pyplot as plt\n",
    "import scipy.signal\n",
    "import pywt\n",
    "\n",
    "def cwt_spectrogram(x, fs, nNotes=12, detrend=True, normalize=True):\n",
    "    if detrend:\n",
    "        x = scipy.signal.detrend(x)\n",
    "    if normalize:\n",
    "        x = (x - np.mean(x)) / np.std(x)\n",
    "    N = len(x)\n",
    "    dt = 1.0/fs\n",
    "    time = np.arange(N) * dt\n",
    "    nOctaves = int(np.log2(2*np.floor(N/2.0)))\n",
    "    scales = 2**np.arange(1, nOctaves, 1.0/nNotes)\n",
    "    cwtmatr, freqs = pywt.cwt(x, scales, 'morl')\n",
    "    return time, cwtmatr, freqs\n",
    "\n",
    "def GetSpectr(Numb1,Namb2,ecgSig):\n",
    "    # Нашли пики для дальнейшего выведения циклов\n",
    "    # Если пользовотель ввел не то значение (столько циклов нет)\n",
    "    # Он ничего не получит\n",
    "    Ecgpeaks = ve.find_peaks()\n",
    "    if Numb2 > len(Ecgpeaks):\n",
    "        print('В ЭКГ сигнале нет столько циклов')\n",
    "        return None\n",
    "    else:\n",
    "        # +1 здесь чтобы не исключать значение зубца R под номером Numb2\n",
    "        # Так как мы берем со значения Numb1 до значения Numb2 ВКЛЮЧИТЕЛЬНО\n",
    "        ecgSigcrop = ecgSig[Ecgpeaks[Numb1-1]:(Ecgpeaks[Numb2-1]+1)]\n",
    "        fs = 1\n",
    "        # Вычисление спектрограммы с помощью CWT\n",
    "        t,cwtmatr, freqs = cwt_spectrogram(ecgSigcrop, fs, nNotes = 24)\n",
    "        freqs = freqs*1000\n",
    "        plt.subplot(2, 1, 2)\n",
    "        plt.imshow(np.abs(cwtmatr), extent=[0, 2 , freqs[-1], freqs[0]], aspect='auto', cmap='jet')\n",
    "        plt.colorbar(label='Амплитуда')\n",
    "        plt.title('Спектрограмма CWT')\n",
    "        plt.xlabel('Время (с)')\n",
    "        plt.ylabel('Частота (Гц)')\n",
    "        plt.show()"
   ]
  }
 ],
 "metadata": {
  "kernelspec": {
   "display_name": "Python 3 (ipykernel)",
   "language": "python",
   "name": "python3"
  },
  "language_info": {
   "codemirror_mode": {
    "name": "ipython",
    "version": 3
   },
   "file_extension": ".py",
   "mimetype": "text/x-python",
   "name": "python",
   "nbconvert_exporter": "python",
   "pygments_lexer": "ipython3",
   "version": "3.10.9"
  }
 },
 "nbformat": 4,
 "nbformat_minor": 5
}
