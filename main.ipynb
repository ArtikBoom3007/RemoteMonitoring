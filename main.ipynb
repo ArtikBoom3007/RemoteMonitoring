{
 "cells": [
  {
   "cell_type": "markdown",
   "metadata": {},
   "source": [
    "## Это наш лицевой файл, к которому будем подключать свои скрипты. Тут будут основные визуальные выводы. Логика вычислений и обработки будет вынесена в отдельные файлы .py\n"
   ]
  }
 ],
 "metadata": {
  "language_info": {
   "name": "python"
  }
 },
 "nbformat": 4,
 "nbformat_minor": 2
}
